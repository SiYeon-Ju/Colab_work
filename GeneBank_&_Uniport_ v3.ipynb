{
  "nbformat": 4,
  "nbformat_minor": 0,
  "metadata": {
    "colab": {
      "provenance": [],
      "authorship_tag": "ABX9TyPECfs+aH84djnmoXaehitx",
      "include_colab_link": true
    },
    "kernelspec": {
      "name": "python3",
      "display_name": "Python 3"
    },
    "language_info": {
      "name": "python"
    }
  },
  "cells": [
    {
      "cell_type": "markdown",
      "metadata": {
        "id": "view-in-github",
        "colab_type": "text"
      },
      "source": [
        "<a href=\"https://colab.research.google.com/github/SiYeon-Ju/Colab_work/blob/main/GeneBank_%26_Uniport_%20v3.ipynb\" target=\"_parent\"><img src=\"https://colab.research.google.com/assets/colab-badge.svg\" alt=\"Open In Colab\"/></a>"
      ]
    },
    {
      "cell_type": "code",
      "source": [
        "!pip install biopython --upgrade"
      ],
      "metadata": {
        "colab": {
          "base_uri": "https://localhost:8080/"
        },
        "id": "qwcQzYmwDYmg",
        "outputId": "e4330c8c-7c0b-488b-fc58-60d6258541f6"
      },
      "execution_count": null,
      "outputs": [
        {
          "output_type": "stream",
          "name": "stdout",
          "text": [
            "Looking in indexes: https://pypi.org/simple, https://us-python.pkg.dev/colab-wheels/public/simple/\n",
            "Collecting biopython\n",
            "  Downloading biopython-1.80-cp38-cp38-manylinux_2_17_x86_64.manylinux2014_x86_64.whl (3.1 MB)\n",
            "\u001b[K     |████████████████████████████████| 3.1 MB 5.2 MB/s \n",
            "\u001b[?25hRequirement already satisfied: numpy in /usr/local/lib/python3.8/dist-packages (from biopython) (1.21.6)\n",
            "Installing collected packages: biopython\n",
            "Successfully installed biopython-1.80\n"
          ]
        }
      ]
    },
    {
      "cell_type": "code",
      "source": [
        "import Bio\n",
        "Bio.__version__"
      ],
      "metadata": {
        "colab": {
          "base_uri": "https://localhost:8080/",
          "height": 35
        },
        "id": "6qkcrzf8D2M1",
        "outputId": "65492f7c-3638-4c02-d547-9c14d604b49d"
      },
      "execution_count": null,
      "outputs": [
        {
          "output_type": "execute_result",
          "data": {
            "text/plain": [
              "'1.80'"
            ],
            "application/vnd.google.colaboratory.intrinsic+json": {
              "type": "string"
            }
          },
          "metadata": {},
          "execution_count": 2
        }
      ]
    },
    {
      "cell_type": "code",
      "source": [
        "## NCBI GeneBank Accession Number로 Protein 서열 찾기 ##\n",
        "\n",
        "import sys\n",
        "from Bio import Entrez\n",
        "Entrez.email = \"wntldus12@gmail.com\"\n",
        "handle = Entrez.efetch(db=\"protein\", id=\"EAS03220\", rettype=\"fasta\")\n",
        "print(handle.read())"
      ],
      "metadata": {
        "colab": {
          "base_uri": "https://localhost:8080/"
        },
        "id": "_wUuqk5DD2lX",
        "outputId": "0c895ba9-f7fd-4885-9319-17e318c8ba0f"
      },
      "execution_count": null,
      "outputs": [
        {
          "output_type": "stream",
          "name": "stdout",
          "text": [
            ">EAS03220.3 carrier protein (macronuclear) [Tetrahymena thermophila SB210]\n",
            "MSTVEESKIIQANKEEVYKKILELRAKQLKEDKQIFENYEPGWFENLLDFDITCLKELEKWMDNVIEKEN\n",
            "SPELTQLWVFQRDLIRFSYYFLTFRWVKLVKENYFAIKVEHLYSDYINYLKEDFQKNNLKWLDDSFSYLT\n",
            "LKIQQAYQGETWDLVESTCKVARAFKDATIEWYEYYVEYNKKVAPQIKQFACNHKNEVKDYIWNRFQGVL\n",
            "RTWINQLKVTPQESLDYSFTVLENYFLVNKLVRASFFEDSKRLVPLQAKQISLQTQLGWKHISNKFGNIK\n",
            "NSLSNSINSSLVSYLSVEESEVFSLRQEGICSLLKQEYPLRLQKGLNLFTLAFFRIIDEEKEYESRSNKF\n",
            "IKLNQDIEKKLDEVFKRKEQRLARINALQSVEKKSDETVENRKKKLEVDFESNQKTTQQQYEKDVKLLES\n",
            "QIAEVSWKKYQVEKDVQESKRIQNEEYRRQQEQVKADKQYKIQREKELKQLASQKKERFDYLKEFIKKFD\n",
            "KQTEEKFQEKIKTIEQQNQARLAKEKRDNRKQELEKFEKAYFDEQEQIKQLQLKKKRIPKKKPEQLALEK\n",
            "QNLDELEQIRQAEEQEKLQEEQHKLDLKKAEEEKQWQNVMEKKFQSKLDGIQQWVDKKGQSINNFDPSKK\n",
            "LRNFYDRIYNSFSECLLWFTPVFNTVIYGPLDNFKITKQLGEKASYLYKAALSQRAFPQRETVQIPSIPE\n",
            "EIDFQQIKTKVKDMFNLQKIEVDPMKKGNLIRVLKHNIIGSDLMSIAFFKIVQDKLMQYTSGTYQNYNNI\n",
            "AAGALSGAMMAFLMNPIDCFKTLYVATDLKVQLSISNVHYRFTNGLNASIISNSVYRGIQFPLYEYFKRA\n",
            "TYMKQYNIKEKDYEQQTGYFNHSYYNNFLSLKQKYLAAVSASLISSVFAYPLDTARKVIYTNTYIQDQSQ\n",
            "HIHTIRQALAINTTIYGGFKYNCIKQIFQPLSLIVFDHATSKISNKSQINQYIH\n",
            "\n",
            "\n"
          ]
        }
      ]
    },
    {
      "cell_type": "code",
      "source": [
        "## Uniprot Accession Number로 Protein 서열 찾기 ##\n",
        "\n",
        "import requests as r\n",
        "from Bio import SeqIO\n",
        "from io import StringIO\n",
        "\n",
        "cID='A0A7I8AS95'\n",
        "\n",
        "baseUrl=\"http://www.uniprot.org/uniprot/\"\n",
        "currentUrl=baseUrl+cID+\".fasta\"\n",
        "response = r.post(currentUrl)\n",
        "cData=''.join(response.text)\n",
        "\n",
        "Seq=StringIO(cData)\n",
        "pSeq=list(SeqIO.parse(Seq,'fasta'))\n",
        "str(pSeq[0].seq)"
      ],
      "metadata": {
        "colab": {
          "base_uri": "https://localhost:8080/",
          "height": 126
        },
        "id": "ljIomGWEG1lV",
        "outputId": "e7c09305-000a-42df-96c2-a72a9b24ce5d"
      },
      "execution_count": null,
      "outputs": [
        {
          "output_type": "execute_result",
          "data": {
            "text/plain": [
              "'MSISSLTPLHSFKEPAILYAGQASAWQQVIADSSEDHITATHLRELLSRSRAKTAPFARQITAIVPGSLARLEELTREDAQIGADIDAQPAVSIPGILLGQIAATRQLRDLGLDVAAASRLGHSQGILGVEAVDNEEDVLAFAILLGSAASQFAGKGAHMLSVRGLSREIIQDTIAGVDGVEVSLRNARAHFVVSGKPEALKKAAAALQRAADVYNEDINEKRKGGSLAGPKFDYLDVAIPFHHSSMQDAADLAVEWATTCGLNVNARALAEAILVNPADWVEQIANLKADYVLSLDAGVSGFTAPLLDGRGISLVPAFSAAERDNLARPGFHVPTAEDWSEFAPKLVKLPNGEHKVLTGFSRLTGYSPIVLAGMTPTTVDPEIVAAAANAGHWAEMAGGGQYSEEVFTKNKEKLVSLLKVGRSAQFNSMFFDRYMWNLQFGAQRIVSKARATGTSINGVVVSAGIPEVEEATELISDLNADGFPYVAFKPGTVDQIRATLKIADANPETKIIIQIEDGHAGGHHSWVNLDDLLLTTYAELRSRKNVVVMIGGGIGTPAKAAYYLTGEWSTDLGFPAMPVDGILVGTAAMATKEATTSPQVKQALVDTPGVDPHDAGGWVGRGDARGGVTSGLSHLHADMYELDNDSAAASRLISSIDSDDYADHREELIEAINKTAKPFFGEVEEMTYAEWIQRWVELAYPTQDPTWDDRFLDLVHRIEARLNEAEHGAITTLFPDHASVENEEEAVEKLLAAYPQAREIQVSARDAAWFIGLCRKHHKPMPWVPAIDADLARWWGLDTLWQSQNERYGANSVRVIPGPVSVAGIDRVDEPVAELLGRFEAACVDALNGEPEEIFARLNESKNEREFLLATPHIVWHGNLIDNPAHVLNEGAFELIEKDGYWVIRILADSYFDDLPVEQRPYLVQHVDIPVELGDAVATGGSPVVSREKLPESVFALLAGVAGVGSVSAAGDEIKALPEAVQDGTPFGTVRDSFTLPASLLTAHTAVTGAALEAHNVGTPDVLMGACWPAIYAALGTGKLSDGYPVIEGLLNAVHLDHLLDLRIPLEELANGRTIDVEARTDSIEESASGRIVTVRIVLTTEGEVAAKLVTRFAIRGRITTNEMAAPADSYGARDEVVEATPRSFIRQATVSAPADMTPFAMVSGDYNPIHTSDNAAKLVGLDAALVHGMWLSATAQHLAGLGSEVIGWTYSMYGMVQLNDVVDITVERVGRAGLKPAYEVTCRIDGNVVSRGQALLKAPSTAYVYPGQGIQAKGMGQGDRTASAEARAVWERADAHTRANLGFSIQQVIDENPTELKVGDTTFVHPAGVLNLTQFTQVALAVVAYAQTERLKAANAIIDDSLYAGHSLGEYTALASLGNIFELEGVIDVVFSRGSAMHSLVPRDEKGRSNYGLAAFRPNMINVAATEVENWVDRVAEESGEFLQIVNYNVDGQQYAVAGTLAGLKALKASASANPRAYVNIPGIDVPFHSSVLRPGVPAFAEKLDELLPETIDIDALRGRYIPNLVARPFELTQSFVDAILAVVPSERLKGIKVEDTDENTLARLLLIELLSWQFASPVRWIETQALIIDTVDQIIEVGLAASPTLTNLALRTMDVIGKSRPVFNVERDQDTVMLNDVRQAPVAEVEEEAVEEAPAAAAAPAAEAPVAAAPVAAAAPAPVGNAPELKFNAANAIMVLFAFQNKINIDQITAADTSETLTNGVSSRRNQMLMDMSTELSVPTIDGAADADVATLQGRVVTAAPGYKPFGPVLSETVRARLRALTGAAGLKTSYIGDRVTGTWGLPESWIAHVEVELLLGTREGESVRGGNLGSLPANASSKADVDALIDGAVQNVAAANGTSVSMSSGGAASGGGVVDSAALDAYASTVTGEEGVLANVARGILTQLGLDTKDEVEGAEIDTELYDAVEAELGTGWLKLVTPVFSADRAILFDDRWASAREDLARLANGEDIAVERFAGTGETVVKQAAWWAEHVEDTALAATLKQVSEVAAKPANEPHIDDVALVTGAAPESIAGAVAARLLSQGATVILTASNVSQARKEYARKLYAANATPNAKLWIVPANMSSYRDVDAVIDWIGNEQRVTVGSTVTVTKPALTPTLAYPFAAPSVSGTLADAGPQAENQARLLLWSVERTIAGLADLASRGVDGRVHVVLPGSPNRGMFGGDGAYGEVKAAFDAILAKWGSETGWPQFVSLAQARIGWVAGTGLMGRNDVLIPAAEKLGIHVYTPEEISSELLGLASAESREKALEAPIDYDLTGGLSGGVSIAALAASLESDAAETTSAAEDTIKALPSPKHPEQPVGTPVGEVKTDLEDMVVMVGVGEVSSWGSGRTRFEAEYGIQRDGSVDLTAAGVLELAWMMGLISWSEDPKPAWYDADGTEVPEEEIYERFRDEVIARCGVRELVDDAFLVDGGSLDAAEVFLDRDISFSVTSAEEAQAYVDADASVTVEEADGEWIVTKKKGSTSFVPRKATLTRSVAGQLPTDFDPAKWGIPASMIDALDNIAAWNLVTAVDAFLSSGFSPAELLQSIHPADVSSTQGTGIGGMQSLRKLFVNRFLGQDRPSDILQETLPNVVAAHTMQSYVGGYGQMIHPVAACATAAVSVEEGVDKIRLNKADFVVAGGIDDIQVESLTGFGDMNATADTQAMLDKGIDPRFISRANDRRRAGFLEAAGGGTVLLARASVAAELGLPVLAVVAHAQSYADGAHTSIPAPGLGALGAARGGKKSVLARELNNLGLTPDDVRVVSKHDTSTNANDPNESELHNLLWKTIGREADNPMFVVSQKSLTGHSKGGAALFQIGGLVSILETGKLPQNASLDCVDPEMEAKGENFVWLRKPLDLGAGSIKAGVITSLGFGHVAAVVVLATSGIFEQAMRNAGLDVEAWRARATQRLRTGANRLEAGMVGRAPLFEQVDGRRLPEHGAHQAEINLLIDADARLGADGIYQG'"
            ],
            "application/vnd.google.colaboratory.intrinsic+json": {
              "type": "string"
            }
          },
          "metadata": {},
          "execution_count": 40
        }
      ]
    },
    {
      "cell_type": "code",
      "source": [
        "import pandas as pd\n",
        "acc_data = pd.read_csv('Accession')\n",
        "acc_data.head(5)"
      ],
      "metadata": {
        "colab": {
          "base_uri": "https://localhost:8080/",
          "height": 198
        },
        "id": "XgyZqYfrK5PV",
        "outputId": "5f0730e3-482f-41c4-bc51-a1ae95f9c20e"
      },
      "execution_count": null,
      "outputs": [
        {
          "output_type": "execute_result",
          "data": {
            "text/plain": [
              "    Accession\n",
              "0  A0A7I8AS95\n",
              "1  A0A1R4EK52\n",
              "2  A0A7I8AMW2\n",
              "3  A0A7I8AKL9\n",
              "4  A0A160PP51"
            ],
            "text/html": [
              "\n",
              "  <div id=\"df-231810b7-f700-4c98-aac7-52ce10120ecd\">\n",
              "    <div class=\"colab-df-container\">\n",
              "      <div>\n",
              "<style scoped>\n",
              "    .dataframe tbody tr th:only-of-type {\n",
              "        vertical-align: middle;\n",
              "    }\n",
              "\n",
              "    .dataframe tbody tr th {\n",
              "        vertical-align: top;\n",
              "    }\n",
              "\n",
              "    .dataframe thead th {\n",
              "        text-align: right;\n",
              "    }\n",
              "</style>\n",
              "<table border=\"1\" class=\"dataframe\">\n",
              "  <thead>\n",
              "    <tr style=\"text-align: right;\">\n",
              "      <th></th>\n",
              "      <th>Accession</th>\n",
              "    </tr>\n",
              "  </thead>\n",
              "  <tbody>\n",
              "    <tr>\n",
              "      <th>0</th>\n",
              "      <td>A0A7I8AS95</td>\n",
              "    </tr>\n",
              "    <tr>\n",
              "      <th>1</th>\n",
              "      <td>A0A1R4EK52</td>\n",
              "    </tr>\n",
              "    <tr>\n",
              "      <th>2</th>\n",
              "      <td>A0A7I8AMW2</td>\n",
              "    </tr>\n",
              "    <tr>\n",
              "      <th>3</th>\n",
              "      <td>A0A7I8AKL9</td>\n",
              "    </tr>\n",
              "    <tr>\n",
              "      <th>4</th>\n",
              "      <td>A0A160PP51</td>\n",
              "    </tr>\n",
              "  </tbody>\n",
              "</table>\n",
              "</div>\n",
              "      <button class=\"colab-df-convert\" onclick=\"convertToInteractive('df-231810b7-f700-4c98-aac7-52ce10120ecd')\"\n",
              "              title=\"Convert this dataframe to an interactive table.\"\n",
              "              style=\"display:none;\">\n",
              "        \n",
              "  <svg xmlns=\"http://www.w3.org/2000/svg\" height=\"24px\"viewBox=\"0 0 24 24\"\n",
              "       width=\"24px\">\n",
              "    <path d=\"M0 0h24v24H0V0z\" fill=\"none\"/>\n",
              "    <path d=\"M18.56 5.44l.94 2.06.94-2.06 2.06-.94-2.06-.94-.94-2.06-.94 2.06-2.06.94zm-11 1L8.5 8.5l.94-2.06 2.06-.94-2.06-.94L8.5 2.5l-.94 2.06-2.06.94zm10 10l.94 2.06.94-2.06 2.06-.94-2.06-.94-.94-2.06-.94 2.06-2.06.94z\"/><path d=\"M17.41 7.96l-1.37-1.37c-.4-.4-.92-.59-1.43-.59-.52 0-1.04.2-1.43.59L10.3 9.45l-7.72 7.72c-.78.78-.78 2.05 0 2.83L4 21.41c.39.39.9.59 1.41.59.51 0 1.02-.2 1.41-.59l7.78-7.78 2.81-2.81c.8-.78.8-2.07 0-2.86zM5.41 20L4 18.59l7.72-7.72 1.47 1.35L5.41 20z\"/>\n",
              "  </svg>\n",
              "      </button>\n",
              "      \n",
              "  <style>\n",
              "    .colab-df-container {\n",
              "      display:flex;\n",
              "      flex-wrap:wrap;\n",
              "      gap: 12px;\n",
              "    }\n",
              "\n",
              "    .colab-df-convert {\n",
              "      background-color: #E8F0FE;\n",
              "      border: none;\n",
              "      border-radius: 50%;\n",
              "      cursor: pointer;\n",
              "      display: none;\n",
              "      fill: #1967D2;\n",
              "      height: 32px;\n",
              "      padding: 0 0 0 0;\n",
              "      width: 32px;\n",
              "    }\n",
              "\n",
              "    .colab-df-convert:hover {\n",
              "      background-color: #E2EBFA;\n",
              "      box-shadow: 0px 1px 2px rgba(60, 64, 67, 0.3), 0px 1px 3px 1px rgba(60, 64, 67, 0.15);\n",
              "      fill: #174EA6;\n",
              "    }\n",
              "\n",
              "    [theme=dark] .colab-df-convert {\n",
              "      background-color: #3B4455;\n",
              "      fill: #D2E3FC;\n",
              "    }\n",
              "\n",
              "    [theme=dark] .colab-df-convert:hover {\n",
              "      background-color: #434B5C;\n",
              "      box-shadow: 0px 1px 3px 1px rgba(0, 0, 0, 0.15);\n",
              "      filter: drop-shadow(0px 1px 2px rgba(0, 0, 0, 0.3));\n",
              "      fill: #FFFFFF;\n",
              "    }\n",
              "  </style>\n",
              "\n",
              "      <script>\n",
              "        const buttonEl =\n",
              "          document.querySelector('#df-231810b7-f700-4c98-aac7-52ce10120ecd button.colab-df-convert');\n",
              "        buttonEl.style.display =\n",
              "          google.colab.kernel.accessAllowed ? 'block' : 'none';\n",
              "\n",
              "        async function convertToInteractive(key) {\n",
              "          const element = document.querySelector('#df-231810b7-f700-4c98-aac7-52ce10120ecd');\n",
              "          const dataTable =\n",
              "            await google.colab.kernel.invokeFunction('convertToInteractive',\n",
              "                                                     [key], {});\n",
              "          if (!dataTable) return;\n",
              "\n",
              "          const docLinkHtml = 'Like what you see? Visit the ' +\n",
              "            '<a target=\"_blank\" href=https://colab.research.google.com/notebooks/data_table.ipynb>data table notebook</a>'\n",
              "            + ' to learn more about interactive tables.';\n",
              "          element.innerHTML = '';\n",
              "          dataTable['output_type'] = 'display_data';\n",
              "          await google.colab.output.renderOutput(dataTable, element);\n",
              "          const docLink = document.createElement('div');\n",
              "          docLink.innerHTML = docLinkHtml;\n",
              "          element.appendChild(docLink);\n",
              "        }\n",
              "      </script>\n",
              "    </div>\n",
              "  </div>\n",
              "  "
            ]
          },
          "metadata": {},
          "execution_count": 43
        }
      ]
    },
    {
      "cell_type": "code",
      "source": [
        "## NCBI GeneBank Accession Number로 Protein 서열 찾기 ## 반복문\n",
        "baseUrl=\"http://www.uniprot.org/uniprot/\"\n",
        "seq_list = []\n",
        "for acc_num in acc_data['Accession']:\n",
        "  # print(i)\n",
        "  try :\n",
        "    currentUrl=baseUrl+acc_num+\".fasta\"\n",
        "    response = r.post(currentUrl)\n",
        "    cData=''.join(response.text)\n",
        "    Seq=StringIO(cData)\n",
        "    pSeq=list(SeqIO.parse(Seq,'fasta'))\n",
        "    seq_list.append(str(pSeq[0].seq))\n",
        "  except:\n",
        "    print('Error : ' + str(acc_num))\n",
        "    continue"
      ],
      "metadata": {
        "id": "hDQK1DsnLLwh"
      },
      "execution_count": null,
      "outputs": []
    },
    {
      "cell_type": "code",
      "source": [
        "acc_data['seq'] = seq_list\n",
        "acc_data.to_csv('results.csv')"
      ],
      "metadata": {
        "id": "Oh9tvwsGcneS"
      },
      "execution_count": null,
      "outputs": []
    },
    {
      "cell_type": "code",
      "source": [
        "import Bio\n",
        "import requests as r\n",
        "from Bio import SeqIO\n",
        "from io import StringIO\n",
        "import numpy as np\n",
        "import pandas as pd\n",
        "import time\n",
        "\n",
        "###  데이터 불러오기 ###\n",
        "acc_data = pd.read_csv('Accession')\n",
        "acc_data.head(3)\n",
        "\n",
        "\n",
        "###  돌리기 ###\n",
        "baseUrl=\"http://www.uniprot.org/uniprot/\"\n",
        "seq_list = []\n",
        "# print(len(acc_data['Accession']))\n",
        "for num, acc_num in enumerate(acc_data['Accession']):\n",
        "#     print(num, acc_num)\n",
        "    try:\n",
        "        print('\\r [Proceeding] ',\n",
        "              str(acc_num) + str(' '),\n",
        "              str( round( ((num+1)/(len(acc_data['Accession']))) * 100, 2)),\n",
        "              str(r'%'),\n",
        "              end = '',\n",
        "              flush = True,)\n",
        "        time.sleep(0.2)\n",
        "        currentUrl=baseUrl+acc_num+\".fasta\"\n",
        "        response = r.post(currentUrl)\n",
        "        cData=''.join(response.text)\n",
        "        Seq=StringIO(cData)\n",
        "        pSeq=list(SeqIO.parse(Seq,'fasta'))\n",
        "        seq_list.append(str(pSeq[0].seq))\n",
        "    except:\n",
        "        pritn('Error : ' + str(acc_num))\n",
        "        continue"
      ],
      "metadata": {
        "id": "q2JFUwPiMzmv"
      },
      "execution_count": null,
      "outputs": []
    }
  ]
}