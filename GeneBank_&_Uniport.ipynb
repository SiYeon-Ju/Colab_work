{
  "nbformat": 4,
  "nbformat_minor": 0,
  "metadata": {
    "colab": {
      "provenance": [],
      "authorship_tag": "ABX9TyPyCowTA3bf45mnKq3xv+bv",
      "include_colab_link": true
    },
    "kernelspec": {
      "name": "python3",
      "display_name": "Python 3"
    },
    "language_info": {
      "name": "python"
    }
  },
  "cells": [
    {
      "cell_type": "markdown",
      "metadata": {
        "id": "view-in-github",
        "colab_type": "text"
      },
      "source": [
        "<a href=\"https://colab.research.google.com/github/SiYeon-Ju/Colab_work/blob/main/GeneBank_%26_Uniport.ipynb\" target=\"_parent\"><img src=\"https://colab.research.google.com/assets/colab-badge.svg\" alt=\"Open In Colab\"/></a>"
      ]
    },
    {
      "cell_type": "code",
      "source": [
        "a = 1\n",
        "b = 2\n",
        "print('ho', \"완벽\" if a == b else ('Hi' if a == 1 else 'kia'))"
      ],
      "metadata": {
        "colab": {
          "base_uri": "https://localhost:8080/"
        },
        "id": "D1EuQmeBgWYk",
        "outputId": "eb359378-a1c1-4100-9881-bc0c5e06fbcf"
      },
      "execution_count": null,
      "outputs": [
        {
          "output_type": "stream",
          "name": "stdout",
          "text": [
            "ho Hi\n"
          ]
        }
      ]
    },
    {
      "cell_type": "code",
      "source": [
        "!pip install biopython --upgrade"
      ],
      "metadata": {
        "colab": {
          "base_uri": "https://localhost:8080/"
        },
        "id": "qwcQzYmwDYmg",
        "outputId": "e4330c8c-7c0b-488b-fc58-60d6258541f6"
      },
      "execution_count": 1,
      "outputs": [
        {
          "output_type": "stream",
          "name": "stdout",
          "text": [
            "Looking in indexes: https://pypi.org/simple, https://us-python.pkg.dev/colab-wheels/public/simple/\n",
            "Collecting biopython\n",
            "  Downloading biopython-1.80-cp38-cp38-manylinux_2_17_x86_64.manylinux2014_x86_64.whl (3.1 MB)\n",
            "\u001b[K     |████████████████████████████████| 3.1 MB 5.2 MB/s \n",
            "\u001b[?25hRequirement already satisfied: numpy in /usr/local/lib/python3.8/dist-packages (from biopython) (1.21.6)\n",
            "Installing collected packages: biopython\n",
            "Successfully installed biopython-1.80\n"
          ]
        }
      ]
    },
    {
      "cell_type": "code",
      "source": [
        "import Bio\n",
        "Bio.__version__"
      ],
      "metadata": {
        "colab": {
          "base_uri": "https://localhost:8080/",
          "height": 35
        },
        "id": "6qkcrzf8D2M1",
        "outputId": "65492f7c-3638-4c02-d547-9c14d604b49d"
      },
      "execution_count": 2,
      "outputs": [
        {
          "output_type": "execute_result",
          "data": {
            "text/plain": [
              "'1.80'"
            ],
            "application/vnd.google.colaboratory.intrinsic+json": {
              "type": "string"
            }
          },
          "metadata": {},
          "execution_count": 2
        }
      ]
    },
    {
      "cell_type": "code",
      "source": [
        "## NCBI GeneBank Accession Number로 Protein 서열 찾기 ##\n",
        "\n",
        "import sys\n",
        "from Bio import Entrez\n",
        "Entrez.email = \"wntldus12@gmail.com\"\n",
        "handle = Entrez.efetch(db=\"protein\", id=\"EAS03220\", rettype=\"fasta\")\n",
        "print(handle.read())"
      ],
      "metadata": {
        "colab": {
          "base_uri": "https://localhost:8080/"
        },
        "id": "_wUuqk5DD2lX",
        "outputId": "0c895ba9-f7fd-4885-9319-17e318c8ba0f"
      },
      "execution_count": 5,
      "outputs": [
        {
          "output_type": "stream",
          "name": "stdout",
          "text": [
            ">EAS03220.3 carrier protein (macronuclear) [Tetrahymena thermophila SB210]\n",
            "MSTVEESKIIQANKEEVYKKILELRAKQLKEDKQIFENYEPGWFENLLDFDITCLKELEKWMDNVIEKEN\n",
            "SPELTQLWVFQRDLIRFSYYFLTFRWVKLVKENYFAIKVEHLYSDYINYLKEDFQKNNLKWLDDSFSYLT\n",
            "LKIQQAYQGETWDLVESTCKVARAFKDATIEWYEYYVEYNKKVAPQIKQFACNHKNEVKDYIWNRFQGVL\n",
            "RTWINQLKVTPQESLDYSFTVLENYFLVNKLVRASFFEDSKRLVPLQAKQISLQTQLGWKHISNKFGNIK\n",
            "NSLSNSINSSLVSYLSVEESEVFSLRQEGICSLLKQEYPLRLQKGLNLFTLAFFRIIDEEKEYESRSNKF\n",
            "IKLNQDIEKKLDEVFKRKEQRLARINALQSVEKKSDETVENRKKKLEVDFESNQKTTQQQYEKDVKLLES\n",
            "QIAEVSWKKYQVEKDVQESKRIQNEEYRRQQEQVKADKQYKIQREKELKQLASQKKERFDYLKEFIKKFD\n",
            "KQTEEKFQEKIKTIEQQNQARLAKEKRDNRKQELEKFEKAYFDEQEQIKQLQLKKKRIPKKKPEQLALEK\n",
            "QNLDELEQIRQAEEQEKLQEEQHKLDLKKAEEEKQWQNVMEKKFQSKLDGIQQWVDKKGQSINNFDPSKK\n",
            "LRNFYDRIYNSFSECLLWFTPVFNTVIYGPLDNFKITKQLGEKASYLYKAALSQRAFPQRETVQIPSIPE\n",
            "EIDFQQIKTKVKDMFNLQKIEVDPMKKGNLIRVLKHNIIGSDLMSIAFFKIVQDKLMQYTSGTYQNYNNI\n",
            "AAGALSGAMMAFLMNPIDCFKTLYVATDLKVQLSISNVHYRFTNGLNASIISNSVYRGIQFPLYEYFKRA\n",
            "TYMKQYNIKEKDYEQQTGYFNHSYYNNFLSLKQKYLAAVSASLISSVFAYPLDTARKVIYTNTYIQDQSQ\n",
            "HIHTIRQALAINTTIYGGFKYNCIKQIFQPLSLIVFDHATSKISNKSQINQYIH\n",
            "\n",
            "\n"
          ]
        }
      ]
    },
    {
      "cell_type": "code",
      "source": [
        "import requests as r\n",
        "from Bio import SeqIO\n",
        "from io import StringIO\n",
        "\n",
        "cID='A0A7I8AS95'\n",
        "\n",
        "baseUrl=\"http://www.uniprot.org/uniprot/\"\n",
        "currentUrl=baseUrl+cID+\".fasta\"\n",
        "response = r.post(currentUrl)\n",
        "cData=''.join(response.text)\n",
        "\n",
        "Seq=StringIO(cData)\n",
        "pSeq=list(SeqIO.parse(Seq,'fasta'))"
      ],
      "metadata": {
        "id": "ljIomGWEG1lV"
      },
      "execution_count": 26,
      "outputs": []
    },
    {
      "cell_type": "code",
      "source": [
        "str(pSeq[0].seq)"
      ],
      "metadata": {
        "colab": {
          "base_uri": "https://localhost:8080/",
          "height": 145
        },
        "id": "xbTL4tRrIGKL",
        "outputId": "34ab0a4e-7f4e-42ad-8eeb-48a5798c9082"
      },
      "execution_count": 39,
      "outputs": [
        {
          "output_type": "execute_result",
          "data": {
            "text/plain": [
              "'MSISSLTPLHSFKEPAILYAGQASAWQQVIADSSEDHITATHLRELLSRSRAKTAPFARQITAIVPGSLARLEELTREDAQIGADIDAQPAVSIPGILLGQIAATRQLRDLGLDVAAASRLGHSQGILGVEAVDNEEDVLAFAILLGSAASQFAGKGAHMLSVRGLSREIIQDTIAGVDGVEVSLRNARAHFVVSGKPEALKKAAAALQRAADVYNEDINEKRKGGSLAGPKFDYLDVAIPFHHSSMQDAADLAVEWATTCGLNVNARALAEAILVNPADWVEQIANLKADYVLSLDAGVSGFTAPLLDGRGISLVPAFSAAERDNLARPGFHVPTAEDWSEFAPKLVKLPNGEHKVLTGFSRLTGYSPIVLAGMTPTTVDPEIVAAAANAGHWAEMAGGGQYSEEVFTKNKEKLVSLLKVGRSAQFNSMFFDRYMWNLQFGAQRIVSKARATGTSINGVVVSAGIPEVEEATELISDLNADGFPYVAFKPGTVDQIRATLKIADANPETKIIIQIEDGHAGGHHSWVNLDDLLLTTYAELRSRKNVVVMIGGGIGTPAKAAYYLTGEWSTDLGFPAMPVDGILVGTAAMATKEATTSPQVKQALVDTPGVDPHDAGGWVGRGDARGGVTSGLSHLHADMYELDNDSAAASRLISSIDSDDYADHREELIEAINKTAKPFFGEVEEMTYAEWIQRWVELAYPTQDPTWDDRFLDLVHRIEARLNEAEHGAITTLFPDHASVENEEEAVEKLLAAYPQAREIQVSARDAAWFIGLCRKHHKPMPWVPAIDADLARWWGLDTLWQSQNERYGANSVRVIPGPVSVAGIDRVDEPVAELLGRFEAACVDALNGEPEEIFARLNESKNEREFLLATPHIVWHGNLIDNPAHVLNEGAFELIEKDGYWVIRILADSYFDDLPVEQRPYLVQHVDIPVELGDAVATGGSPVVSREKLPESVFALLAGVAGVGSVSAAGDEIKALPEAVQDGTPFGTVRDSFTLPASLLTAHTAVTGAALEAHNVGTPDVLMGACWPAIYAALGTGKLSDGYPVIEGLLNAVHLDHLLDLRIPLEELANGRTIDVEARTDSIEESASGRIVTVRIVLTTEGEVAAKLVTRFAIRGRITTNEMAAPADSYGARDEVVEATPRSFIRQATVSAPADMTPFAMVSGDYNPIHTSDNAAKLVGLDAALVHGMWLSATAQHLAGLGSEVIGWTYSMYGMVQLNDVVDITVERVGRAGLKPAYEVTCRIDGNVVSRGQALLKAPSTAYVYPGQGIQAKGMGQGDRTASAEARAVWERADAHTRANLGFSIQQVIDENPTELKVGDTTFVHPAGVLNLTQFTQVALAVVAYAQTERLKAANAIIDDSLYAGHSLGEYTALASLGNIFELEGVIDVVFSRGSAMHSLVPRDEKGRSNYGLAAFRPNMINVAATEVENWVDRVAEESGEFLQIVNYNVDGQQYAVAGTLAGLKALKASASANPRAYVNIPGIDVPFHSSVLRPGVPAFAEKLDELLPETIDIDALRGRYIPNLVARPFELTQSFVDAILAVVPSERLKGIKVEDTDENTLARLLLIELLSWQFASPVRWIETQALIIDTVDQIIEVGLAASPTLTNLALRTMDVIGKSRPVFNVERDQDTVMLNDVRQAPVAEVEEEAVEEAPAAAAAPAAEAPVAAAPVAAAAPAPVGNAPELKFNAANAIMVLFAFQNKINIDQITAADTSETLTNGVSSRRNQMLMDMSTELSVPTIDGAADADVATLQGRVVTAAPGYKPFGPVLSETVRARLRALTGAAGLKTSYIGDRVTGTWGLPESWIAHVEVELLLGTREGESVRGGNLGSLPANASSKADVDALIDGAVQNVAAANGTSVSMSSGGAASGGGVVDSAALDAYASTVTGEEGVLANVARGILTQLGLDTKDEVEGAEIDTELYDAVEAELGTGWLKLVTPVFSADRAILFDDRWASAREDLARLANGEDIAVERFAGTGETVVKQAAWWAEHVEDTALAATLKQVSEVAAKPANEPHIDDVALVTGAAPESIAGAVAARLLSQGATVILTASNVSQARKEYARKLYAANATPNAKLWIVPANMSSYRDVDAVIDWIGNEQRVTVGSTVTVTKPALTPTLAYPFAAPSVSGTLADAGPQAENQARLLLWSVERTIAGLADLASRGVDGRVHVVLPGSPNRGMFGGDGAYGEVKAAFDAILAKWGSETGWPQFVSLAQARIGWVAGTGLMGRNDVLIPAAEKLGIHVYTPEEISSELLGLASAESREKALEAPIDYDLTGGLSGGVSIAALAASLESDAAETTSAAEDTIKALPSPKHPEQPVGTPVGEVKTDLEDMVVMVGVGEVSSWGSGRTRFEAEYGIQRDGSVDLTAAGVLELAWMMGLISWSEDPKPAWYDADGTEVPEEEIYERFRDEVIARCGVRELVDDAFLVDGGSLDAAEVFLDRDISFSVTSAEEAQAYVDADASVTVEEADGEWIVTKKKGSTSFVPRKATLTRSVAGQLPTDFDPAKWGIPASMIDALDNIAAWNLVTAVDAFLSSGFSPAELLQSIHPADVSSTQGTGIGGMQSLRKLFVNRFLGQDRPSDILQETLPNVVAAHTMQSYVGGYGQMIHPVAACATAAVSVEEGVDKIRLNKADFVVAGGIDDIQVESLTGFGDMNATADTQAMLDKGIDPRFISRANDRRRAGFLEAAGGGTVLLARASVAAELGLPVLAVVAHAQSYADGAHTSIPAPGLGALGAARGGKKSVLARELNNLGLTPDDVRVVSKHDTSTNANDPNESELHNLLWKTIGREADNPMFVVSQKSLTGHSKGGAALFQIGGLVSILETGKLPQNASLDCVDPEMEAKGENFVWLRKPLDLGAGSIKAGVITSLGFGHVAAVVVLATSGIFEQAMRNAGLDVEAWRARATQRLRTGANRLEAGMVGRAPLFEQVDGRRLPEHGAHQAEINLLIDADARLGADGIYQG'"
            ],
            "application/vnd.google.colaboratory.intrinsic+json": {
              "type": "string"
            }
          },
          "metadata": {},
          "execution_count": 39
        }
      ]
    },
    {
      "cell_type": "code",
      "source": [
        "pSeq2 = SeqIO.parse(Seq,'fasta')\n",
        "for s in pSeq2:\n",
        "    print(type(s))\n",
        "    print(s)\n",
        "    print(\"------\\n\\n\\n\")\n",
        "#pSeq2"
      ],
      "metadata": {
        "id": "xfyp76SpG8FO"
      },
      "execution_count": 22,
      "outputs": []
    }
  ]
}