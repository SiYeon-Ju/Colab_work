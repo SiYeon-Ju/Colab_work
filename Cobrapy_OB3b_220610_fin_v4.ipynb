{
  "nbformat": 4,
  "nbformat_minor": 0,
  "metadata": {
    "colab": {
      "name": "Cobrapy_OB3b_v3",
      "provenance": [],
      "collapsed_sections": [],
      "authorship_tag": "ABX9TyOX8YMfjTQyn1RJ2xyD7/uZ",
      "include_colab_link": true
    },
    "kernelspec": {
      "name": "python3",
      "display_name": "Python 3"
    },
    "language_info": {
      "name": "python"
    }
  },
  "cells": [
    {
      "cell_type": "markdown",
      "metadata": {
        "id": "view-in-github",
        "colab_type": "text"
      },
      "source": [
        "<a href=\"https://colab.research.google.com/github/SiYeon-Ju/Colab_work/blob/main/Cobrapy_OB3b_220610_fin_v4.ipynb\" target=\"_parent\"><img src=\"https://colab.research.google.com/assets/colab-badge.svg\" alt=\"Open In Colab\"/></a>"
      ]
    },
    {
      "cell_type": "code",
      "execution_count": null,
      "metadata": {
        "colab": {
          "base_uri": "https://localhost:8080/"
        },
        "id": "0WwYsRKLM-X-",
        "outputId": "b2983910-185c-4a15-d207-182b2ba9c878"
      },
      "outputs": [
        {
          "output_type": "stream",
          "name": "stdout",
          "text": [
            "Looking in indexes: https://pypi.org/simple, https://us-python.pkg.dev/colab-wheels/public/simple/\n",
            "Collecting cobra==0.17.0\n",
            "  Downloading cobra-0.17.0-py2.py3-none-any.whl (1.9 MB)\n",
            "\u001b[K     |████████████████████████████████| 1.9 MB 14.8 MB/s \n",
            "\u001b[?25hCollecting depinfo\n",
            "  Downloading depinfo-2.1.1-py3-none-any.whl (23 kB)\n",
            "Requirement already satisfied: pandas>=0.17.0 in /usr/local/lib/python3.7/dist-packages (from cobra==0.17.0) (1.3.5)\n",
            "Requirement already satisfied: numpy>=1.13 in /usr/local/lib/python3.7/dist-packages (from cobra==0.17.0) (1.21.6)\n",
            "Collecting python-libsbml-experimental==5.18.0\n",
            "  Downloading python_libsbml_experimental-5.18.0-cp37-cp37m-manylinux1_x86_64.whl (43.9 MB)\n",
            "\u001b[K     |████████████████████████████████| 43.9 MB 1.8 MB/s \n",
            "\u001b[?25hRequirement already satisfied: future in /usr/local/lib/python3.7/dist-packages (from cobra==0.17.0) (0.16.0)\n",
            "Collecting swiglpk\n",
            "  Downloading swiglpk-5.0.5-cp37-cp37m-manylinux_2_17_x86_64.manylinux2014_x86_64.whl (2.3 MB)\n",
            "\u001b[K     |████████████████████████████████| 2.3 MB 41.7 MB/s \n",
            "\u001b[?25hCollecting ruamel.yaml>=0.16\n",
            "  Downloading ruamel.yaml-0.17.21-py3-none-any.whl (109 kB)\n",
            "\u001b[K     |████████████████████████████████| 109 kB 51.8 MB/s \n",
            "\u001b[?25hRequirement already satisfied: six in /usr/local/lib/python3.7/dist-packages (from cobra==0.17.0) (1.15.0)\n",
            "Collecting optlang>=1.4.2\n",
            "  Downloading optlang-1.5.2-py2.py3-none-any.whl (147 kB)\n",
            "\u001b[K     |████████████████████████████████| 147 kB 45.5 MB/s \n",
            "\u001b[?25hRequirement already satisfied: sympy>=1.0 in /usr/local/lib/python3.7/dist-packages (from optlang>=1.4.2->cobra==0.17.0) (1.7.1)\n",
            "Requirement already satisfied: python-dateutil>=2.7.3 in /usr/local/lib/python3.7/dist-packages (from pandas>=0.17.0->cobra==0.17.0) (2.8.2)\n",
            "Requirement already satisfied: pytz>=2017.3 in /usr/local/lib/python3.7/dist-packages (from pandas>=0.17.0->cobra==0.17.0) (2022.1)\n",
            "Collecting ruamel.yaml.clib>=0.2.6\n",
            "  Downloading ruamel.yaml.clib-0.2.6-cp37-cp37m-manylinux1_x86_64.whl (546 kB)\n",
            "\u001b[K     |████████████████████████████████| 546 kB 46.6 MB/s \n",
            "\u001b[?25hRequirement already satisfied: mpmath>=0.19 in /usr/local/lib/python3.7/dist-packages (from sympy>=1.0->optlang>=1.4.2->cobra==0.17.0) (1.2.1)\n",
            "Requirement already satisfied: importlib-metadata in /usr/local/lib/python3.7/dist-packages (from depinfo->cobra==0.17.0) (4.11.4)\n",
            "Requirement already satisfied: zipp>=0.5 in /usr/local/lib/python3.7/dist-packages (from importlib-metadata->depinfo->cobra==0.17.0) (3.8.0)\n",
            "Requirement already satisfied: typing-extensions>=3.6.4 in /usr/local/lib/python3.7/dist-packages (from importlib-metadata->depinfo->cobra==0.17.0) (4.2.0)\n",
            "Installing collected packages: swiglpk, ruamel.yaml.clib, ruamel.yaml, python-libsbml-experimental, optlang, depinfo, cobra\n",
            "Successfully installed cobra-0.17.0 depinfo-2.1.1 optlang-1.5.2 python-libsbml-experimental-5.18.0 ruamel.yaml-0.17.21 ruamel.yaml.clib-0.2.6 swiglpk-5.0.5\n"
          ]
        }
      ],
      "source": [
        "# !python --version\n",
        "!pip install cobra==0.17.0"
      ]
    },
    {
      "cell_type": "code",
      "source": [
        "!git clone https://github.com/ensakz/gem_methylosinus_trichosporium.git"
      ],
      "metadata": {
        "colab": {
          "base_uri": "https://localhost:8080/"
        },
        "id": "BCie4wAdM_og",
        "outputId": "401cf545-bfba-4ef6-949b-231d828e8eca"
      },
      "execution_count": null,
      "outputs": [
        {
          "output_type": "stream",
          "name": "stdout",
          "text": [
            "Cloning into 'gem_methylosinus_trichosporium'...\n",
            "remote: Enumerating objects: 68, done.\u001b[K\n",
            "remote: Counting objects: 100% (68/68), done.\u001b[K\n",
            "remote: Compressing objects: 100% (66/66), done.\u001b[K\n",
            "remote: Total 68 (delta 13), reused 0 (delta 0), pack-reused 0\u001b[K\n",
            "Unpacking objects: 100% (68/68), done.\n"
          ]
        }
      ]
    },
    {
      "cell_type": "code",
      "source": [
        "#!pip install gurobipy ## 쓰지말 것,, 너무 Size가 작아서 못쓴다.. ##\n",
        "# import gurobipy as gp\n",
        "#model.solver = 'glpk'  # glpk 도 가능\n",
        "# type(model.solver)"
      ],
      "metadata": {
        "id": "kl131EX4NGfh"
      },
      "execution_count": null,
      "outputs": []
    },
    {
      "cell_type": "code",
      "source": [
        "import cobra\n",
        "import pandas as pd\n",
        "import numpy as np\n",
        "## Json 모델 불러오기 ##\n",
        "model_dir = r'/content/gem_methylosinus_trichosporium/model_files/iMsOB3b.json'\n",
        "iMsOB3b = cobra.io.load_json_model(model_dir)\n",
        "\n",
        "# lst = []\n",
        "# for i in range(len(iMsOB3b.reactions)):\n",
        "#   lst.append([iMsOB3b.reactions[i].id, iMsOB3b.reactions[i].reaction, iMsOB3b.reactions[i].name, \n",
        "#    iMsOB3b.reactions[i].lower_bound, iMsOB3b.reactions[i].upper_bound,  iMsOB3b.reactions[i].gene_reaction_rule])\n",
        "# df = pd.DataFrame( lst, columns = ['ID', 'Rxn', 'Gene_name', 'LB','UB','Gene_Rxn_Rule'] )\n",
        "# df.to_csv('Model_info.csv', header = True)\n",
        "   \n",
        "## SBML 모델 불러오기(예시) ##\n",
        "#AM1_OB3b_combined=cobra.io.read_sbml_model(models_directory + \"OB3b_draft_GEM_based_on_AM1_and_Bath_GEMs.xml\")    \n"
      ],
      "metadata": {
        "id": "ZBx_kMQwNTkn"
      },
      "execution_count": null,
      "outputs": []
    },
    {
      "cell_type": "code",
      "source": [
        "def model_info(model): ## 모델 기본 정보 저장 ##\n",
        "  lst = []\n",
        "  for i in range(len(model.reactions)):\n",
        "    lst.append([model.reactions[i].id, model.reactions[i].reaction, model.reactions[i].name, \n",
        "    model.reactions[i].lower_bound, model.reactions[i].upper_bound,  model.reactions[i].gene_reaction_rule])\n",
        "  df = pd.DataFrame( lst, columns = ['ID', 'Rxn', 'Gene_name', 'LB','UB','Gene_Rxn_Rule'] )\n",
        "  df.to_csv(str(model) + '_Model_info.csv', header = True)\n",
        "  return print('Model_info save complete!')\n",
        "\n",
        "model_info(iMsOB3b)"
      ],
      "metadata": {
        "colab": {
          "base_uri": "https://localhost:8080/"
        },
        "id": "LD9Y-s1kFs6L",
        "outputId": "00db069f-20b0-43e2-9f31-37dea5937de9"
      },
      "execution_count": null,
      "outputs": [
        {
          "output_type": "stream",
          "name": "stdout",
          "text": [
            "Model_info save complete!\n"
          ]
        }
      ]
    },
    {
      "cell_type": "code",
      "source": [
        "## 이렇게도 되네 ㅎㅎ\n",
        "print('ID : ', iMsOB3b.reactions[1].id, '/ Rxn : ',iMsOB3b.reactions[1].reaction,'/ Name : ',iMsOB3b.reactions[1].name )\n",
        "## 모델에서 반응 정보 뽑아내기 ##\n",
        "print(iMsOB3b.reactions[1].lower_bound, iMsOB3b.reactions[1].upper_bound,  iMsOB3b.reactions[1].gene_reaction_rule)\n",
        "iMsOB3b.reactions[1]"
      ],
      "metadata": {
        "colab": {
          "base_uri": "https://localhost:8080/",
          "height": 241
        },
        "id": "Qze89Vj7DVmT",
        "outputId": "12d682c4-5190-4c3f-e987-19ae89d525d4"
      },
      "execution_count": null,
      "outputs": [
        {
          "output_type": "stream",
          "name": "stdout",
          "text": [
            "ID :  IMPC / Rxn :  fprica_c <=> h2o_c + imp_c / Name :  inosine monophosphate cyclohydrolase\n",
            "-1000.0 1000.0 CQW49_01745\n"
          ]
        },
        {
          "output_type": "execute_result",
          "data": {
            "text/plain": [
              "<Reaction IMPC at 0x7fea8bdfa5d0>"
            ],
            "text/html": [
              "\n",
              "        <table>\n",
              "            <tr>\n",
              "                <td><strong>Reaction identifier</strong></td><td>IMPC</td>\n",
              "            </tr><tr>\n",
              "                <td><strong>Name</strong></td><td>inosine monophosphate cyclohydrolase</td>\n",
              "            </tr><tr>\n",
              "                <td><strong>Memory address</strong></td>\n",
              "                <td>0x07fea8bdfa5d0</td>\n",
              "            </tr><tr>\n",
              "                <td><strong>Stoichiometry</strong></td>\n",
              "                <td>\n",
              "                    <p style='text-align:right'>fprica_c <=> h2o_c + imp_c</p>\n",
              "                    <p style='text-align:right'>phosphoribosyl_formamido_carboxamide <=> H2O + IMP</p>\n",
              "                </td>\n",
              "            </tr><tr>\n",
              "                <td><strong>GPR</strong></td><td>CQW49_01745</td>\n",
              "            </tr><tr>\n",
              "                <td><strong>Lower bound</strong></td><td>-1000.0</td>\n",
              "            </tr><tr>\n",
              "                <td><strong>Upper bound</strong></td><td>1000.0</td>\n",
              "            </tr>\n",
              "        </table>\n",
              "        "
            ]
          },
          "metadata": {},
          "execution_count": 34
        }
      ]
    },
    {
      "cell_type": "code",
      "source": [
        "## Adjust reaction bounds ## ## 모델의 Bounds 설정 ##\n",
        "iMsOB3b.reactions.EX_ch4_e.bounds = (-14.9, 0)"
      ],
      "metadata": {
        "id": "8hAjlbZVNPpo"
      },
      "execution_count": null,
      "outputs": []
    },
    {
      "cell_type": "code",
      "source": [
        "# Growth on molecular nitrogen:\n",
        "# Check whether there is in silico growth rate using molecular nitrogen:\n",
        "## 암모니아는 0으로 ##\n",
        "iMsOB3b.reactions.EX_nh4_e.bounds = (0, 0)\n",
        "\n",
        "# iMsOB3b.objective = 'Biomass_Mextorquens_AM1_core'\n",
        "print('print objective in first context:', iMsOB3b.objective.expression)\n",
        "iMsOB3b.summary()\n",
        "\n",
        "#iMsOB3b.objective = 'Biomass_Mextorquens_AM1_core'\n",
        "\n"
      ],
      "metadata": {
        "colab": {
          "base_uri": "https://localhost:8080/",
          "height": 225
        },
        "id": "Mc2TJb8uNaxf",
        "outputId": "1fa8f180-e35b-4b36-fab9-00468bcabea5"
      },
      "execution_count": null,
      "outputs": [
        {
          "output_type": "stream",
          "name": "stdout",
          "text": [
            "print objective in first context: 1.0*Biomass_Mextorquens_AM1_core - 1.0*Biomass_Mextorquens_AM1_core_reverse_8e834\n"
          ]
        },
        {
          "output_type": "execute_result",
          "data": {
            "text/plain": [
              "<cobra.core.summary.model_summary.ModelSummary at 0x7fea88f0d4d0>"
            ],
            "text/html": [
              "<div>\n",
              "<style scoped>\n",
              "    .dataframe tbody tr th:only-of-type {\n",
              "        vertical-align: middle;\n",
              "    }\n",
              "\n",
              "    .dataframe tbody tr th {\n",
              "        vertical-align: top;\n",
              "    }\n",
              "\n",
              "    .dataframe thead tr th {\n",
              "        text-align: left;\n",
              "    }\n",
              "</style>\n",
              "<table border=\"1\" class=\"dataframe\">\n",
              "  <thead>\n",
              "    <tr>\n",
              "      <th></th>\n",
              "      <th colspan=\"2\" halign=\"left\">IN_FLUXES</th>\n",
              "      <th colspan=\"2\" halign=\"left\">OUT_FLUXES</th>\n",
              "      <th colspan=\"2\" halign=\"left\">OBJECTIVES</th>\n",
              "    </tr>\n",
              "    <tr>\n",
              "      <th></th>\n",
              "      <th>ID</th>\n",
              "      <th>FLUX</th>\n",
              "      <th>ID</th>\n",
              "      <th>FLUX</th>\n",
              "      <th>ID</th>\n",
              "      <th>FLUX</th>\n",
              "    </tr>\n",
              "  </thead>\n",
              "  <tbody>\n",
              "    <tr>\n",
              "      <th>0</th>\n",
              "      <td>o2_e</td>\n",
              "      <td>22.361667</td>\n",
              "      <td>h2o_e</td>\n",
              "      <td>26.428157</td>\n",
              "      <td>Biomass_Mextorquens_AM1_core</td>\n",
              "      <td>0.122604</td>\n",
              "    </tr>\n",
              "    <tr>\n",
              "      <th>1</th>\n",
              "      <td>ch4_e</td>\n",
              "      <td>14.900000</td>\n",
              "      <td>co2_e</td>\n",
              "      <td>9.973844</td>\n",
              "      <td>NaN</td>\n",
              "      <td>NaN</td>\n",
              "    </tr>\n",
              "    <tr>\n",
              "      <th>2</th>\n",
              "      <td>h_e</td>\n",
              "      <td>7.658611</td>\n",
              "      <td>NaN</td>\n",
              "      <td>NaN</td>\n",
              "      <td>NaN</td>\n",
              "      <td>NaN</td>\n",
              "    </tr>\n",
              "    <tr>\n",
              "      <th>3</th>\n",
              "      <td>no3_e</td>\n",
              "      <td>1.199312</td>\n",
              "      <td>NaN</td>\n",
              "      <td>NaN</td>\n",
              "      <td>NaN</td>\n",
              "      <td>NaN</td>\n",
              "    </tr>\n",
              "  </tbody>\n",
              "</table>\n",
              "</div>"
            ]
          },
          "metadata": {},
          "execution_count": 55
        }
      ]
    },
    {
      "cell_type": "code",
      "source": [
        "## 질소는 -1000으로.. ##\n",
        "iMsOB3b.reactions.EX_n2_e.bounds = (-1000, 0 )  ## 튜플을 하든, 값을 두 개를 넣든 상관이 없다..  -1000, 0 그냥 이렇게만 써도 괜찮\n",
        "iMsOB3b.summary()"
      ],
      "metadata": {
        "colab": {
          "base_uri": "https://localhost:8080/",
          "height": 206
        },
        "id": "ZHcmXE9LNdmv",
        "outputId": "76290883-8eec-4a59-8836-bccb361a6fdc"
      },
      "execution_count": null,
      "outputs": [
        {
          "output_type": "execute_result",
          "data": {
            "text/plain": [
              "<cobra.core.summary.model_summary.ModelSummary at 0x7f05a1416090>"
            ],
            "text/html": [
              "<div>\n",
              "<style scoped>\n",
              "    .dataframe tbody tr th:only-of-type {\n",
              "        vertical-align: middle;\n",
              "    }\n",
              "\n",
              "    .dataframe tbody tr th {\n",
              "        vertical-align: top;\n",
              "    }\n",
              "\n",
              "    .dataframe thead tr th {\n",
              "        text-align: left;\n",
              "    }\n",
              "</style>\n",
              "<table border=\"1\" class=\"dataframe\">\n",
              "  <thead>\n",
              "    <tr>\n",
              "      <th></th>\n",
              "      <th colspan=\"2\" halign=\"left\">IN_FLUXES</th>\n",
              "      <th colspan=\"2\" halign=\"left\">OUT_FLUXES</th>\n",
              "      <th colspan=\"2\" halign=\"left\">OBJECTIVES</th>\n",
              "    </tr>\n",
              "    <tr>\n",
              "      <th></th>\n",
              "      <th>ID</th>\n",
              "      <th>FLUX</th>\n",
              "      <th>ID</th>\n",
              "      <th>FLUX</th>\n",
              "      <th>ID</th>\n",
              "      <th>FLUX</th>\n",
              "    </tr>\n",
              "  </thead>\n",
              "  <tbody>\n",
              "    <tr>\n",
              "      <th>0</th>\n",
              "      <td>o2_e</td>\n",
              "      <td>22.361667</td>\n",
              "      <td>h2o_e</td>\n",
              "      <td>26.428157</td>\n",
              "      <td>Biomass_Mextorquens_AM1_core</td>\n",
              "      <td>0.122604</td>\n",
              "    </tr>\n",
              "    <tr>\n",
              "      <th>1</th>\n",
              "      <td>ch4_e</td>\n",
              "      <td>14.900000</td>\n",
              "      <td>co2_e</td>\n",
              "      <td>9.973844</td>\n",
              "      <td>NaN</td>\n",
              "      <td>NaN</td>\n",
              "    </tr>\n",
              "    <tr>\n",
              "      <th>2</th>\n",
              "      <td>h_e</td>\n",
              "      <td>3.262040</td>\n",
              "      <td>NaN</td>\n",
              "      <td>NaN</td>\n",
              "      <td>NaN</td>\n",
              "      <td>NaN</td>\n",
              "    </tr>\n",
              "    <tr>\n",
              "      <th>3</th>\n",
              "      <td>no3_e</td>\n",
              "      <td>1.199312</td>\n",
              "      <td>NaN</td>\n",
              "      <td>NaN</td>\n",
              "      <td>NaN</td>\n",
              "      <td>NaN</td>\n",
              "    </tr>\n",
              "  </tbody>\n",
              "</table>\n",
              "</div>"
            ]
          },
          "metadata": {},
          "execution_count": 33
        }
      ]
    },
    {
      "cell_type": "code",
      "source": [
        "## 반응식 확인 ##\n",
        "iMsOB3b.reactions.FALDA"
      ],
      "metadata": {
        "colab": {
          "base_uri": "https://localhost:8080/",
          "height": 204
        },
        "id": "zTjB4xq_UTLk",
        "outputId": "34522a2d-2b93-4c5a-9e36-ded55bac4089"
      },
      "execution_count": null,
      "outputs": [
        {
          "output_type": "execute_result",
          "data": {
            "text/plain": [
              "<Reaction FALDA at 0x7f99b93d05d0>"
            ],
            "text/html": [
              "\n",
              "        <table>\n",
              "            <tr>\n",
              "                <td><strong>Reaction identifier</strong></td><td>FALDA</td>\n",
              "            </tr><tr>\n",
              "                <td><strong>Name</strong></td><td>H4F dependent formaldehyde activating</td>\n",
              "            </tr><tr>\n",
              "                <td><strong>Memory address</strong></td>\n",
              "                <td>0x07f99b93d05d0</td>\n",
              "            </tr><tr>\n",
              "                <td><strong>Stoichiometry</strong></td>\n",
              "                <td>\n",
              "                    <p style='text-align:right'>fald_c + thf_c --> h2o_c + mlthf_c</p>\n",
              "                    <p style='text-align:right'>formaldehyde + tetrahydrofolate --> H2O + 5_10_methylenetetrahydrofolate</p>\n",
              "                </td>\n",
              "            </tr><tr>\n",
              "                <td><strong>GPR</strong></td><td>SP0001</td>\n",
              "            </tr><tr>\n",
              "                <td><strong>Lower bound</strong></td><td>0</td>\n",
              "            </tr><tr>\n",
              "                <td><strong>Upper bound</strong></td><td>0</td>\n",
              "            </tr>\n",
              "        </table>\n",
              "        "
            ]
          },
          "metadata": {},
          "execution_count": 23
        }
      ]
    },
    {
      "cell_type": "code",
      "source": [
        "# Compare modes of methane oxidation after GAM/NGAM adjustments: NO3\n",
        "# GAM: AM1, NGAM: Methylocystis parvus (default condition)\n",
        "# create pandas dataframe to store results:\n",
        "iMsOB3b.reactions.FALDA.bounds = (0, 0)         ## THF 관련 유전자\n",
        "iMsOB3b.reactions.EX_nh4_e.bounds = (0, 0)      ## 암모니아 바운드 0\n",
        "iMsOB3b.reactions.EX_n2_e.bounds = (0, 0)       ## 질소 바운드 0\n",
        "iMsOB3b.reactions.EX_no3_e.bounds = (-1000, 0)  ## 질산 바운드 -inf\n",
        "\n",
        "## 기록할 것 DataFrame으로 만들기 ##\n",
        "import pandas as pd\n",
        "df = pd.DataFrame(index=[\"Methane UTR\",\"Oxygen UTR\", \"CO2 UTR\", \"NH4 UTR\", \"N2 UTR\",\n",
        "                         \"NO3 UTR\", \"Uphill Electron Transfer Flux\", \"Growth Rate\" ,\n",
        "                         \"Growth Yield\", \"O2/CH4 Ratio\", \"NH4/CH4 Ratio\", \"N2/CH4 Ratio\",\n",
        "                         \"NO3/CH4 Ratio\", \"ATP/CH4 Ratio\"])\n",
        "\n",
        "## 기록할 것 DataFrame으로 만들기 ##\n",
        "def df_record(solution, df, column):\n",
        "    gr = solution.fluxes.Biomass_Mextorquens_AM1_core\n",
        "    yx = gr/(abs((solution.fluxes.EX_ch4_e/1000)*16.04))  ## Growth Yeild ## Methan MW 16\n",
        "    data = [solution.fluxes.EX_ch4_e, solution.fluxes.EX_o2_e, solution.fluxes.EX_co2_e, solution.fluxes.EX_nh4_e,\n",
        "            solution.fluxes.EX_n2_e, solution.fluxes.EX_no3_e, solution.fluxes.UQCYOR_2p, gr, yx,\n",
        "            solution.fluxes.EX_o2_e/solution.fluxes.EX_ch4_e, solution.fluxes.EX_nh4_e/solution.fluxes.EX_ch4_e,\n",
        "            solution.fluxes.EX_n2_e/solution.fluxes.EX_ch4_e, solution.fluxes.EX_no3_e/solution.fluxes.EX_ch4_e,\n",
        "            solution.fluxes.ATPS4rpp/abs(solution.fluxes.EX_ch4_e)]\n",
        "    df[column] = data\n",
        "    return df"
      ],
      "metadata": {
        "id": "K-BsdmFON4P_"
      },
      "execution_count": null,
      "outputs": []
    },
    {
      "cell_type": "code",
      "source": [
        "iMsOB3b.reactions.MEOHDH"
      ],
      "metadata": {
        "colab": {
          "base_uri": "https://localhost:8080/",
          "height": 239
        },
        "id": "DY_tBSymU6ac",
        "outputId": "9b4a9c26-0265-4389-9e7f-8ee132ea1711"
      },
      "execution_count": null,
      "outputs": [
        {
          "output_type": "execute_result",
          "data": {
            "text/plain": [
              "<Reaction MEOHDH at 0x7f99b9540f50>"
            ],
            "text/html": [
              "\n",
              "        <table>\n",
              "            <tr>\n",
              "                <td><strong>Reaction identifier</strong></td><td>MEOHDH</td>\n",
              "            </tr><tr>\n",
              "                <td><strong>Name</strong></td><td>methanol dehydrogenase</td>\n",
              "            </tr><tr>\n",
              "                <td><strong>Memory address</strong></td>\n",
              "                <td>0x07f99b9540f50</td>\n",
              "            </tr><tr>\n",
              "                <td><strong>Stoichiometry</strong></td>\n",
              "                <td>\n",
              "                    <p style='text-align:right'>2.0 ficytc_c + meoh_p --> fald_p + 2.0 focytc_c + 2.0 h_p</p>\n",
              "                    <p style='text-align:right'>2.0 oxidized_cytochrome_c + methanol --> formaldehyde + 2.0 reduced_cytochrome_c + 2.0 H_</p>\n",
              "                </td>\n",
              "            </tr><tr>\n",
              "                <td><strong>GPR</strong></td><td>(CQW49_14425 and CQW49_14440) or CQW49_14395</td>\n",
              "            </tr><tr>\n",
              "                <td><strong>Lower bound</strong></td><td>0.0</td>\n",
              "            </tr><tr>\n",
              "                <td><strong>Upper bound</strong></td><td>1000.0</td>\n",
              "            </tr>\n",
              "        </table>\n",
              "        "
            ]
          },
          "metadata": {},
          "execution_count": 38
        }
      ]
    },
    {
      "cell_type": "code",
      "source": [
        "## 아래 코드 테스트 ## 두 개의 반응식이 이렇게 합쳐진다... 신기하다..\n",
        "iMsOB3b.reactions.PMMOipp.flux_expression - 0.5*iMsOB3b.reactions.PMMODCipp.flux_expression"
      ],
      "metadata": {
        "colab": {
          "base_uri": "https://localhost:8080/",
          "height": 60
        },
        "id": "lmiPMy5nVsK8",
        "outputId": "187fc1a7-6f69-4700-d400-67ca5d6dbeed"
      },
      "execution_count": null,
      "outputs": [
        {
          "output_type": "execute_result",
          "data": {
            "text/plain": [
              "-0.5*PMMODCipp + 0.5*PMMODCipp_reverse_9fcf6 + 1.0*PMMOipp - 1.0*PMMOipp_reverse_b48b8"
            ],
            "text/latex": "$\\displaystyle - 0.5 PMMODCipp + 0.5 PMMODCipp_{reverse 9fcf6} + 1.0 PMMOipp - 1.0 PMMOipp_{reverse b48b8}$"
          },
          "metadata": {},
          "execution_count": 36
        }
      ]
    },
    {
      "cell_type": "code",
      "source": [
        "# Direct coupling:\n",
        "# Integrate redox arm and direct coupling with different ratios at the same time\n",
        "import numpy as np\n",
        "for r in np.arange(0,6.5,0.5): ## 0에서 6.0까지 0.5씩 올림\n",
        "    with iMsOB3b as model:\n",
        "        try:\n",
        "            model.reactions.EX_no3_e.bounds = -1000, 0\n",
        "            model.reactions.PMMOipp.bounds = 0, 1000     ## 메탄에서 메탄올 생성 반응식 (유비퀴논 이용)\n",
        "            model.reactions.PMMODCipp.bounds = 0, 1000   ## 메탄에서 메탄올 생성 반응식 (Cytochrome 이용)\n",
        "            c3 = model.problem.Constraint(\n",
        "                    model.reactions.PMMOipp.flux_expression - \n",
        "                    r* model.reactions.PMMODCipp.flux_expression, lb=0, ub=0, name='c3')\n",
        "            model.add_cons_vars(c3)\n",
        "            solution = cobra.flux_analysis.pfba(model)\n",
        "            print(round(solution.fluxes.MEOHDH,1),round(solution.fluxes.PMMODCipp,2), round(solution.fluxes.PMMOipp,2))\n",
        "        except:\n",
        "            #pass\n",
        "            print(r, 'is infeasible')\n",
        "    df = df_record(solution, df, 'NO3, pMMODC, RedEff {}'.format(r))\n",
        "#There is a problem with pFBA when simulating via direct coupling mode of methane oxidation."
      ],
      "metadata": {
        "colab": {
          "base_uri": "https://localhost:8080/"
        },
        "id": "zExmMSULN6Ef",
        "outputId": "3c31e516-3b70-4e7e-fd67-9178c3c004ef"
      },
      "execution_count": null,
      "outputs": [
        {
          "output_type": "stream",
          "name": "stdout",
          "text": [
            "14.9 14.9 0.0\n",
            "14.9 9.93 4.97\n",
            "14.9 7.45 7.45\n",
            "14.9 5.96 8.94\n",
            "2.0 is infeasible\n",
            "14.9 4.26 10.64\n",
            "14.9 3.72 11.18\n",
            "3.5 is infeasible\n",
            "14.9 2.98 11.92\n",
            "14.9 2.71 12.19\n",
            "14.9 2.48 12.42\n",
            "14.9 2.29 12.61\n",
            "14.9 2.13 12.77\n"
          ]
        }
      ]
    },
    {
      "cell_type": "code",
      "source": [
        "## Parsimonas FBA 돌리기 ##\n",
        "sol = cobra.flux_analysis.pfba(iMsOB3b)\n",
        "#display(sol)\n",
        "#print(sol.status)\n",
        "#print(iMsOB3b.reactions)\n",
        "\n",
        "lst = []\n",
        "for rxn in sol.fluxes.index:\n",
        "  try :\n",
        "    rxn_cash = iMsOB3b.reactions.get_by_id(rxn)\n",
        "    #print(rxn, rxn_cash.reaction)\n",
        "    lst.append(rxn_cash.reaction)\n",
        "  except:\n",
        "    print('Error: Mismatch_'+str(rxn))\n",
        "data1 = pd.DataFrame([sol.fluxes]).transpose().reset_index()\n",
        "data2 = pd.DataFrame(lst, columns = ['Reaction'])\n",
        "data3 = pd.concat([data1,data2], axis = 1)\n",
        "data3.columns = [['ID', 'Flux', 'Reaction']]\n",
        "data3.to_csv('results.csv')"
      ],
      "metadata": {
        "id": "bixPGkHvimkU"
      },
      "execution_count": null,
      "outputs": []
    },
    {
      "cell_type": "code",
      "source": [
        "META_reactions = []\n",
        "for reaction in iMsOB3b.reactions:\n",
        "    if \"META\" in reaction.gene_reaction_rule:\n",
        "        META_reactions.append(reaction)\n",
        "META_reactions\n",
        "iMsOB3b.reactions.PPND.gene_reaction_rule  ## 유전자 반응식 규칙에 META라고 명칭 붙는 것들이 있나보다..\n",
        "## 위에걸 줄여서 GPR이라고 하는 듯...\n",
        "\n",
        "### 여튼 반응식 출력하기 ###\n",
        "iMsOB3b.reactions.PPND\n",
        "### 아래처럼 하면  반응식 변경 ## 반응식 바꾸기 ###\n",
        "# iMsOB3b.reactions.PPND.reaction = \"ch4_p + o2_p + qh2_c --> h2o_p + meoh_p + q_c\"\n",
        "\n",
        "### 특정 대사물질(q_c)이 포함된 반응식을 모두 뽑아내는 방법 ###\n",
        "for reaction in iMsOB3b.metabolites.q_c.reactions:\n",
        "    print(reaction.name, reaction)\n",
        "\n",
        "## bound 확인하는 법 ##\n",
        "pgi = iMsOB3b.reactions.get_by_id(\"PGI\")\n",
        "print(pgi.lower_bound, \"< pgi <\", pgi.upper_bound)\n",
        "## bound 백업과 쉽게 바꾸는 방법 ##\n",
        "old_bounds = pgi.bounds\n",
        "pgi.bounds = (0, 1000.0)\n",
        "## 역반응 확인 ##\n",
        "print(pgi.lower_bound, \"< pgi <\", pgi.upper_bound)\n",
        "print(\"Reversibility after modification:\", pgi.reversibility)\n",
        "pgi.bounds = old_bounds\n",
        "print(\"Reversibility after resetting:\", pgi.reversibility)\n",
        "\n",
        "\n",
        "### 반응식에 대사체 추가하기 ##\n",
        "pgi.add_metabolites({model.metabolites.get_by_id(\"h_c\"): -1})\n",
        "pgi.reaction\n",
        "\n",
        "## mass balance 확인하기 \n",
        "pgi.check_mass_balance()\n",
        "\n",
        "## 반응식 바꾸기   반응식 변경\n",
        "pgi.reaction = \"g6p_c --> f6p_c + h_c + green_eggs + ham\"\n",
        "pgi.reaction  ## 확인하기도 가능"
      ],
      "metadata": {
        "colab": {
          "base_uri": "https://localhost:8080/"
        },
        "id": "5yq-pLYhbDqE",
        "outputId": "7879c5f0-e829-4530-bf58-93c5cb20cf6b"
      },
      "execution_count": null,
      "outputs": [
        {
          "output_type": "stream",
          "name": "stdout",
          "text": [
            "ETF dehydrogenase ETFDH: q_c + rETF_c <=> oxETF_c + qh2_c\n",
            "particulate Methane Monooxygenase PMMOipp: ch4_p + o2_p + qh2_c --> h2o_p + meoh_p + q_c\n",
            "NADH ubiquinone oxidoreductase I NADH11: 5.0 h_c + nadh_c + q_c --> 4.0 h_p + nad_c + qh2_c\n",
            "QRr QRr: h_c + nadph_c + q_c --> nadp_c + qh2_c\n",
            "cytochrome bd ubiquinol oxidase CYOD: 4.0 h_c + o2_c + 2.0 qh2_c --> 2.0 h2o_c + 4.0 h_p + 2.0 q_c\n",
            "Nitrate reductase (Ubiquinol-8) NO3R1: no3_c + qh2_c --> h2o_c + no2_c + q_c\n",
            "particulate ammonia monooxygenase PAMMOipp: nh4_p + o2_p + qh2_c --> h2o_p + h_p + ham_p + q_c\n",
            "ubiquinol cytochrome c reductase UQCYOR_2p: 2.0 ficytc_c + qh2_c --> 2.0 focytc_c + 2.0 h_p + q_c\n",
            "photosystem I cyclic PHOTOSYS1C: 2.0 fdxrd_c + 2.0 h_c + q_c --> 2.0 fdxox_c + qh2_c\n",
            "succinate dehydrogenase SUCCD1: q_c + succ_c <=> fum_c + qh2_c\n",
            "NADPH Quinone Reductase (Ubiquinone-8) NADPHQR2: h_c + nadph_c + q_c --> nadp_c + qh2_c\n",
            "cytochrome o ubiquinol oxidase CYOO_4p: 4.0 h_c + 0.5 o2_c + qh2_c --> h2o_c + 4.0 h_p + q_c\n",
            "-1000.0 < pgi < 1000.0\n",
            "0 < pgi < 1000.0\n",
            "Reversibility after modification: False\n",
            "Reversibility after resetting: True\n"
          ]
        }
      ]
    },
    {
      "cell_type": "code",
      "source": [
        "df.at['O2/CH4 Ratio', 'NO3, pMMODC, RedEff 0.5'] = 0.00\n",
        "df.at['O2/CH4 Ratio', 'NO3, pMMODC, RedEff 2.0'] = 0.00\n",
        "df.iloc[9]['NO3, pMMODC, RedEff 0.0':'NO3, pMMODC, RedEff 6.0']\n",
        "import matplotlib.pyplot as plt\n",
        "import pandas\n",
        "\n",
        "x=np.arange(0,6.5,0.5)\n",
        "plt.scatter(x, y=df.iloc[9]['NO3, pMMODC, RedEff 0.0':'NO3, pMMODC, RedEff 6.0'])\n",
        "plt.axhline(y=1.46, color='darkgray', linestyle='--')\n",
        "plt.axhline(y=1.50, color='darkgray', linestyle='--')\n",
        "plt.text(6.7, 1.478,'Reference NO\\u2083', fontsize='large')\n",
        "#plt.fill_between((-0.5, 6.5), 1.48, 1.50, facecolor = 'darkgray')\n",
        "plt.xlim((-0.5,6.5))\n",
        "plt.ylim((1.37,1.51))\n",
        "plt.xlabel('Reduced Efficiency', fontsize='x-large')\n",
        "plt.ylabel('Predicted O\\u2082/CH\\u2084', fontsize='x-large')\n",
        "plt.show()"
      ],
      "metadata": {
        "colab": {
          "base_uri": "https://localhost:8080/",
          "height": 283
        },
        "id": "_DjTjhOdN7Yv",
        "outputId": "d8b6e5d1-8bd9-4a2f-b635-cf5bc366f873"
      },
      "execution_count": null,
      "outputs": [
        {
          "output_type": "display_data",
          "data": {
            "text/plain": [
              "<Figure size 432x288 with 1 Axes>"
            ],
            "image/png": "[encoded data removed]"
          },
          "metadata": {
            "needs_background": "light"
          }
        }
      ]
    },
    {
      "cell_type": "code",
      "source": [
        "# Uphill electron transfer:\n",
        "# Iteratively limit the flux of reverse electron in uphill electron transfer mode\n",
        "\n",
        "with iMsOB3b as model:\n",
        "    model.reactions.UQCYOR_2p.bounds = -1000, 1000\n",
        "    model.reactions.EX_no3_e.bounds = -1000, 0\n",
        "    solution = cobra.flux_analysis.pfba(model)\n",
        "\n",
        "df = df_record(solution, df, 'NO3, pMMO, Uphill Unconstrained')\n",
        "\n",
        "\n",
        "for r in np.arange(-5,0,0.2):\n",
        "    with iMsOB3b as model:\n",
        "        model.reactions.UQCYOR_2p.bounds = r, 1000\n",
        "        model.reactions.EX_no3_e.bounds = -1000, 0\n",
        "        solution = cobra.flux_analysis.pfba(model)\n",
        "\n",
        "    df = df_record(solution, df, 'NO3, pMMO, Uphill ET, {}'.format(r))\n",
        "\n",
        "    \n",
        "df.iloc[9]['NO3, pMMO, Uphill ET, -5.0':'NO3, pMMO, Uphill ET, -0.19999999999999574']\n",
        "\n",
        "\n",
        "import matplotlib.pyplot as plt\n",
        "import pandas\n",
        "\n",
        "x=np.arange(-5,0,0.2)\n",
        "plt.scatter(x, y=df.iloc[9]['NO3, pMMO, Uphill ET, -5.0':'NO3, pMMO, Uphill ET, -0.19999999999999574'])\n",
        "plt.axhline(y=1.46, color='darkgray', linestyle='--')\n",
        "plt.axhline(y=1.50, color='darkgray', linestyle='--')\n",
        "plt.text(0.2, 1.478,'Reference NO\\u2083', fontsize='large')\n",
        "#plt.fill_between((-5.5,0), 1.48, 1.50, facecolor = 'darkgray')\n",
        "plt.xlim((-5.5,0))\n",
        "plt.ylim((1.37,1.51))\n",
        "plt.xlabel('Flux via UQCYOR_2p', fontsize='x-large')\n",
        "plt.ylabel('Predicted O\\u2082/CH\\u2084', fontsize='x-large')\n",
        "plt.show()"
      ],
      "metadata": {
        "colab": {
          "base_uri": "https://localhost:8080/",
          "height": 283
        },
        "id": "2PimFoP_N9GY",
        "outputId": "7ef1f511-c9ff-40c2-9875-012d51d25e8e"
      },
      "execution_count": null,
      "outputs": [
        {
          "output_type": "display_data",
          "data": {
            "text/plain": [
              "<Figure size 432x288 with 1 Axes>"
            ],
            "image/png": "[encoded data removed]"
          },
          "metadata": {
            "needs_background": "light"
          }
        }
      ]
    },
    {
      "cell_type": "code",
      "source": [
        ""
      ],
      "metadata": {
        "id": "kOKFv_oYN-X_"
      },
      "execution_count": null,
      "outputs": []
    }
  ]
}