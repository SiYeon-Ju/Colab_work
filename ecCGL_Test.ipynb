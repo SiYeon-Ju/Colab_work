{
  "nbformat": 4,
  "nbformat_minor": 0,
  "metadata": {
    "colab": {
      "provenance": [],
      "authorship_tag": "ABX9TyP2OEZWWMcVL+Q6jglIro0/",
      "include_colab_link": true
    },
    "kernelspec": {
      "name": "python3",
      "display_name": "Python 3"
    },
    "language_info": {
      "name": "python"
    }
  },
  "cells": [
    {
      "cell_type": "markdown",
      "metadata": {
        "id": "view-in-github",
        "colab_type": "text"
      },
      "source": [
        "<a href=\"https://colab.research.google.com/github/SiYeon-Ju/Colab_work/blob/main/ecCGL_Test.ipynb\" target=\"_parent\"><img src=\"https://colab.research.google.com/assets/colab-badge.svg\" alt=\"Open In Colab\"/></a>"
      ]
    },
    {
      "cell_type": "code",
      "execution_count": 3,
      "metadata": {
        "colab": {
          "base_uri": "https://localhost:8080/"
        },
        "id": "-OKqeHCVP-3o",
        "outputId": "2ed663e5-4e93-44e8-8c13-74d39dec7c30"
      },
      "outputs": [
        {
          "output_type": "stream",
          "name": "stdout",
          "text": [
            "Cloning into 'ecCGL1'...\n",
            "remote: Enumerating objects: 1927, done.\u001b[K\n",
            "remote: Counting objects: 100% (1927/1927), done.\u001b[K\n",
            "remote: Compressing objects: 100% (1049/1049), done.\u001b[K\n",
            "remote: Total 1927 (delta 182), reused 1888 (delta 147), pack-reused 0\u001b[K\n",
            "Receiving objects: 100% (1927/1927), 7.84 MiB | 20.06 MiB/s, done.\n",
            "Resolving deltas: 100% (182/182), done.\n"
          ]
        }
      ],
      "source": [
        "!git clone https://github.com/tibbdc/ecCGL1"
      ]
    },
    {
      "cell_type": "code",
      "source": [
        "!pip install cobra"
      ],
      "metadata": {
        "id": "DJg82YgwQ0wX"
      },
      "execution_count": null,
      "outputs": []
    },
    {
      "cell_type": "code",
      "source": [
        "import os\n",
        "import sys\n",
        "currentPath = os.getcwd() + '/ecCGL1'\n",
        "sys.path.append(currentPath + '/script/')\n",
        "from ECMpy_function import *\n",
        "import copy\n",
        "import math\n",
        "import cobra"
      ],
      "metadata": {
        "id": "wjjY-ynIQIXL"
      },
      "execution_count": 10,
      "outputs": []
    },
    {
      "cell_type": "code",
      "source": [
        "# json_model_file=f\"{currentPath}/model/iCW773_irr_enz_constraint_adj_PDH.json\"\n",
        "json_model_file = '/content/ecCGL1/model/iCW773_irr_enz_constraint_adj_PDH.json'\n",
        "enz_model=get_enzyme_constraint_model(json_model_file)\n",
        "# reaction_kcat_MW_file=\"./analysis/reaction_kcat_MW.csv\"\n",
        "objlist = []\n",
        "glclist = []\n",
        "exlist = list(np.linspace(0.1, 0.46, 2))\n",
        "exlistn = []\n",
        "for i in exlist:\n",
        "    i = format(i,'.2f')\n",
        "    exlistn.append(float(i))\n",
        "# print(exlistn)\n",
        "concentration = 5.5\n",
        "obj='EX_lys_L_e' # EX_lys_L_e\n",
        "enzcost = pd.DataFrame()\n",
        "\n",
        "for i in exlistn:\n",
        "    cond = i\n",
        "\n",
        "    enz_model.reactions.get_by_id('EX_glc_e').bounds=(-concentration,0)#EX_glc_e EX_fru_e EX_sucr_e EX_inost_e EX_lac_D_e EX_ac_e\n",
        "    enz_model.reactions.get_by_id('EX_glc_e_reverse').bounds=(0,0)\n",
        "    # enz_model.reactions.get_by_id('ATPM').bounds=(6.86,6.86)\n",
        "    enz_model.reactions.get_by_id('CG_biomass_cgl_ATCC13032').bounds=(cond,cond)\n",
        "    enz_model.objective=obj\n",
        "    enz_model_pfba_solution = cobra.flux_analysis.pfba(enz_model)\n",
        "    glclist.append(str(i))\n",
        "    objlist.append(enz_model_pfba_solution.fluxes[obj])\n",
        "\n",
        "    print(-enz_model_pfba_solution.fluxes['EX_glc_e'])\n",
        "    print(enz_model_pfba_solution.fluxes['EX_ac_e'])\n",
        "    print(enz_model_pfba_solution.fluxes['CG_biomass_cgl_ATCC13032'])\n",
        "    # fluxes_outfile = f'{currentPath}/analysis/ECMpy_solution_%s_%.2g_pfba_%.2g.csv'%(obj,cond,concentration)\n",
        "    enz_model_pfba_solution = get_fluxes_detail_in_model(enz_model,enz_model_pfba_solution,fluxes_outfile,json_model_file)\n",
        "    enzcost['id']= enz_model_pfba_solution.index\n",
        "    enzcost.set_index('id',inplace=True)\n",
        "    enzcost['E_μ%s'%(cond)] = enz_model_pfba_solution['E']\n",
        "\n",
        "    # print(enzcost['E_%s'%(cond)] )\n",
        "    print(np.sum(enz_model_pfba_solution['E']))\n",
        "    print(\"        \")\n",
        "ectest = pd.DataFrame({'ec773':glclist,'obj':objlist})\n",
        "print(ectest)\n",
        "\n",
        "\n",
        "folddf = pd.DataFrame()\n",
        "for row in enzcost.itertuples():\n",
        "    if re.search(row.Index,'DAPDC_num2|DAPDH|DHDPS|ASPK|PYRC|TKT2|RPE|TKT1|TALA|GND|G6PDH2r|PGL|ENO|PGK|PDH|ICDHyr|ACONTa|ACONTb|CS_num1|FUM'):\n",
        "        # print(enzcost.loc(row.Index,'E_μ0.1'))\n",
        "        folddf.loc[row.Index,'E_μ=0.1'] = enzcost.loc[row.Index,'E_μ0.1']\n",
        "        folddf.loc[row.Index,'E_μ=0.46'] = enzcost.loc[row.Index,'E_μ0.46']\n",
        "folddf['log2_foldchange'] = folddf['E_μ=0.1']/folddf['E_μ=0.46']\n",
        "foldlist = []\n",
        "for eachf in folddf['log2_foldchange']:\n",
        "    eachf = math.log2(eachf)\n",
        "    foldlist.append(eachf)\n",
        "folddf['log2_foldchange'] = foldlist\n",
        "folddf = folddf.sort_values(by='log2_foldchange',ascending=False)\n",
        "# folddf.to_csv('./analysis/enzcost_foldchange.csv')\n",
        "folddf"
      ],
      "metadata": {
        "colab": {
          "base_uri": "https://localhost:8080/",
          "height": 410
        },
        "id": "yeVhSv42Qf77",
        "outputId": "fe3b8faf-9f15-4631-a73d-252c7b584b27"
      },
      "execution_count": 18,
      "outputs": [
        {
          "output_type": "error",
          "ename": "Infeasible",
          "evalue": "ignored",
          "traceback": [
            "\u001b[0;31m---------------------------------------------------------------------------\u001b[0m",
            "\u001b[0;31mInfeasible\u001b[0m                                Traceback (most recent call last)",
            "\u001b[0;32m<ipython-input-18-e2b445df108c>\u001b[0m in \u001b[0;36m<cell line: 17>\u001b[0;34m()\u001b[0m\n\u001b[1;32m     23\u001b[0m     \u001b[0menz_model\u001b[0m\u001b[0;34m.\u001b[0m\u001b[0mreactions\u001b[0m\u001b[0;34m.\u001b[0m\u001b[0mget_by_id\u001b[0m\u001b[0;34m(\u001b[0m\u001b[0;34m'CG_biomass_cgl_ATCC13032'\u001b[0m\u001b[0;34m)\u001b[0m\u001b[0;34m.\u001b[0m\u001b[0mbounds\u001b[0m\u001b[0;34m=\u001b[0m\u001b[0;34m(\u001b[0m\u001b[0mcond\u001b[0m\u001b[0;34m,\u001b[0m\u001b[0mcond\u001b[0m\u001b[0;34m)\u001b[0m\u001b[0;34m\u001b[0m\u001b[0;34m\u001b[0m\u001b[0m\n\u001b[1;32m     24\u001b[0m     \u001b[0menz_model\u001b[0m\u001b[0;34m.\u001b[0m\u001b[0mobjective\u001b[0m\u001b[0;34m=\u001b[0m\u001b[0mobj\u001b[0m\u001b[0;34m\u001b[0m\u001b[0;34m\u001b[0m\u001b[0m\n\u001b[0;32m---> 25\u001b[0;31m     \u001b[0menz_model_pfba_solution\u001b[0m \u001b[0;34m=\u001b[0m \u001b[0mcobra\u001b[0m\u001b[0;34m.\u001b[0m\u001b[0mflux_analysis\u001b[0m\u001b[0;34m.\u001b[0m\u001b[0mpfba\u001b[0m\u001b[0;34m(\u001b[0m\u001b[0menz_model\u001b[0m\u001b[0;34m)\u001b[0m\u001b[0;34m\u001b[0m\u001b[0;34m\u001b[0m\u001b[0m\n\u001b[0m\u001b[1;32m     26\u001b[0m     \u001b[0mglclist\u001b[0m\u001b[0;34m.\u001b[0m\u001b[0mappend\u001b[0m\u001b[0;34m(\u001b[0m\u001b[0mstr\u001b[0m\u001b[0;34m(\u001b[0m\u001b[0mi\u001b[0m\u001b[0;34m)\u001b[0m\u001b[0;34m)\u001b[0m\u001b[0;34m\u001b[0m\u001b[0;34m\u001b[0m\u001b[0m\n\u001b[1;32m     27\u001b[0m     \u001b[0mobjlist\u001b[0m\u001b[0;34m.\u001b[0m\u001b[0mappend\u001b[0m\u001b[0;34m(\u001b[0m\u001b[0menz_model_pfba_solution\u001b[0m\u001b[0;34m.\u001b[0m\u001b[0mfluxes\u001b[0m\u001b[0;34m[\u001b[0m\u001b[0mobj\u001b[0m\u001b[0;34m]\u001b[0m\u001b[0;34m)\u001b[0m\u001b[0;34m\u001b[0m\u001b[0;34m\u001b[0m\u001b[0m\n",
            "\u001b[0;32m/usr/local/lib/python3.10/dist-packages/cobra/flux_analysis/parsimonious.py\u001b[0m in \u001b[0;36mpfba\u001b[0;34m(model, fraction_of_optimum, objective, reactions)\u001b[0m\n\u001b[1;32m     93\u001b[0m     \u001b[0;32mwith\u001b[0m \u001b[0mmodel\u001b[0m \u001b[0;32mas\u001b[0m \u001b[0mm\u001b[0m\u001b[0;34m:\u001b[0m\u001b[0;34m\u001b[0m\u001b[0;34m\u001b[0m\u001b[0m\n\u001b[1;32m     94\u001b[0m         \u001b[0madd_pfba\u001b[0m\u001b[0;34m(\u001b[0m\u001b[0mm\u001b[0m\u001b[0;34m,\u001b[0m \u001b[0mobjective\u001b[0m\u001b[0;34m=\u001b[0m\u001b[0mobjective\u001b[0m\u001b[0;34m,\u001b[0m \u001b[0mfraction_of_optimum\u001b[0m\u001b[0;34m=\u001b[0m\u001b[0mfraction_of_optimum\u001b[0m\u001b[0;34m)\u001b[0m\u001b[0;34m\u001b[0m\u001b[0;34m\u001b[0m\u001b[0m\n\u001b[0;32m---> 95\u001b[0;31m         \u001b[0mm\u001b[0m\u001b[0;34m.\u001b[0m\u001b[0mslim_optimize\u001b[0m\u001b[0;34m(\u001b[0m\u001b[0merror_value\u001b[0m\u001b[0;34m=\u001b[0m\u001b[0;32mNone\u001b[0m\u001b[0;34m)\u001b[0m\u001b[0;34m\u001b[0m\u001b[0;34m\u001b[0m\u001b[0m\n\u001b[0m\u001b[1;32m     96\u001b[0m         \u001b[0msolution\u001b[0m \u001b[0;34m=\u001b[0m \u001b[0mget_solution\u001b[0m\u001b[0;34m(\u001b[0m\u001b[0mm\u001b[0m\u001b[0;34m,\u001b[0m \u001b[0mreactions\u001b[0m\u001b[0;34m=\u001b[0m\u001b[0mreactions\u001b[0m\u001b[0;34m)\u001b[0m\u001b[0;34m\u001b[0m\u001b[0;34m\u001b[0m\u001b[0m\n\u001b[1;32m     97\u001b[0m     \u001b[0;32mreturn\u001b[0m \u001b[0msolution\u001b[0m\u001b[0;34m\u001b[0m\u001b[0;34m\u001b[0m\u001b[0m\n",
            "\u001b[0;32m/usr/local/lib/python3.10/dist-packages/cobra/core/model.py\u001b[0m in \u001b[0;36mslim_optimize\u001b[0;34m(self, error_value, message)\u001b[0m\n\u001b[1;32m   1198\u001b[0m             \u001b[0;32mreturn\u001b[0m \u001b[0merror_value\u001b[0m\u001b[0;34m\u001b[0m\u001b[0;34m\u001b[0m\u001b[0m\n\u001b[1;32m   1199\u001b[0m         \u001b[0;32melse\u001b[0m\u001b[0;34m:\u001b[0m\u001b[0;34m\u001b[0m\u001b[0;34m\u001b[0m\u001b[0m\n\u001b[0;32m-> 1200\u001b[0;31m             \u001b[0massert_optimal\u001b[0m\u001b[0;34m(\u001b[0m\u001b[0mself\u001b[0m\u001b[0;34m,\u001b[0m \u001b[0mmessage\u001b[0m\u001b[0;34m)\u001b[0m\u001b[0;34m\u001b[0m\u001b[0;34m\u001b[0m\u001b[0m\n\u001b[0m\u001b[1;32m   1201\u001b[0m \u001b[0;34m\u001b[0m\u001b[0m\n\u001b[1;32m   1202\u001b[0m     def optimize(\n",
            "\u001b[0;32m/usr/local/lib/python3.10/dist-packages/cobra/util/solver.py\u001b[0m in \u001b[0;36massert_optimal\u001b[0;34m(model, message)\u001b[0m\n\u001b[1;32m    588\u001b[0m     \u001b[0;32mif\u001b[0m \u001b[0mstatus\u001b[0m \u001b[0;34m!=\u001b[0m \u001b[0mOPTIMAL\u001b[0m\u001b[0;34m:\u001b[0m\u001b[0;34m\u001b[0m\u001b[0;34m\u001b[0m\u001b[0m\n\u001b[1;32m    589\u001b[0m         \u001b[0mexception_cls\u001b[0m \u001b[0;34m=\u001b[0m \u001b[0mOPTLANG_TO_EXCEPTIONS_DICT\u001b[0m\u001b[0;34m.\u001b[0m\u001b[0mget\u001b[0m\u001b[0;34m(\u001b[0m\u001b[0mstatus\u001b[0m\u001b[0;34m,\u001b[0m \u001b[0mOptimizationError\u001b[0m\u001b[0;34m)\u001b[0m\u001b[0;34m\u001b[0m\u001b[0;34m\u001b[0m\u001b[0m\n\u001b[0;32m--> 590\u001b[0;31m         \u001b[0;32mraise\u001b[0m \u001b[0mexception_cls\u001b[0m\u001b[0;34m(\u001b[0m\u001b[0;34mf\"{message} ({status}).\"\u001b[0m\u001b[0;34m)\u001b[0m\u001b[0;34m\u001b[0m\u001b[0;34m\u001b[0m\u001b[0m\n\u001b[0m\u001b[1;32m    591\u001b[0m \u001b[0;34m\u001b[0m\u001b[0m\n\u001b[1;32m    592\u001b[0m \u001b[0;34m\u001b[0m\u001b[0m\n",
            "\u001b[0;31mInfeasible\u001b[0m: None (infeasible)."
          ]
        }
      ]
    },
    {
      "cell_type": "code",
      "source": [],
      "metadata": {
        "id": "5dKbYScJRW05"
      },
      "execution_count": null,
      "outputs": []
    }
  ]
}