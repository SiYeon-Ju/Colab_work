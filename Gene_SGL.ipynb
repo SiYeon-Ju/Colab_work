{
  "nbformat": 4,
  "nbformat_minor": 0,
  "metadata": {
    "colab": {
      "name": "Untitled2.ipynb",
      "provenance": [],
      "authorship_tag": "ABX9TyOBwB/1ZSyjxnbz7n+J0mts",
      "include_colab_link": true
    },
    "kernelspec": {
      "name": "python3",
      "display_name": "Python 3"
    },
    "language_info": {
      "name": "python"
    }
  },
  "cells": [
    {
      "cell_type": "markdown",
      "metadata": {
        "id": "view-in-github",
        "colab_type": "text"
      },
      "source": [
        "<a href=\"https://colab.research.google.com/github/SiYeon-Ju/Colab_work/blob/main/Gene_SGL.ipynb\" target=\"_parent\"><img src=\"https://colab.research.google.com/assets/colab-badge.svg\" alt=\"Open In Colab\"/></a>"
      ]
    },
    {
      "cell_type": "code",
      "source": [
        "a = 1\n",
        "b = 2\n",
        "print('ho', \"완벽\" if a == b else ('Hi' if a == 1 else 'kia'))"
      ],
      "metadata": {
        "colab": {
          "base_uri": "https://localhost:8080/"
        },
        "id": "D1EuQmeBgWYk",
        "outputId": "eb359378-a1c1-4100-9881-bc0c5e06fbcf"
      },
      "execution_count": null,
      "outputs": [
        {
          "output_type": "stream",
          "name": "stdout",
          "text": [
            "ho Hi\n"
          ]
        }
      ]
    },
    {
      "cell_type": "code",
      "source": [
        "import pandas as pd\n",
        "import numpy as np\n",
        "\n",
        "data = pd.read_csv('data', sep = '\\t')\n",
        "data"
      ],
      "metadata": {
        "colab": {
          "base_uri": "https://localhost:8080/",
          "height": 423
        },
        "id": "LxK2f85DLz-4",
        "outputId": "3cce5220-2bca-4930-9a9f-6ecf860e9521"
      },
      "execution_count": 60,
      "outputs": [
        {
          "output_type": "execute_result",
          "data": {
            "text/plain": [
              "     Reaction Name                                           Reaction  \\\n",
              "0          EAOXRED           h_c + nadh_c + oxEA_c --> nad_c + rdEA_c   \n",
              "1             IMPC                         fprica_c <=> h2o_c + imp_c   \n",
              "2           HACD8i     3hodcoa_c + nad_c <=> 3oodcoa_c + h_c + nadh_c   \n",
              "3            PANTS  ala_B_c + atp_c + pant_R_c --> amp_c + h_c + p...   \n",
              "4             IMPD     h2o_c + imp_c + nad_c <=> h_c + nadh_c + xmp_c   \n",
              "...            ...                                                ...   \n",
              "1038          PPK2                   atp_c + ppi_c --> adp_c + pppi_c   \n",
              "1039          HAMR  2.0 h_c + ham_c + nadh_c --> h2o_c + nad_c + n...   \n",
              "1040       HAORipp  2.0 ficytc_c + h2o_p + ham_p --> 2.0 focytc_c ...   \n",
              "1041         ACSPW            2.0 accoaa_c + accoab_c --> 3.0 accoa_c   \n",
              "1042       PBHB_EX                                        pbhb_c -->    \n",
              "\n",
              "                            Gene*  \\\n",
              "0                     CQW49_14855   \n",
              "1                     CQW49_01745   \n",
              "2     CQW49_15495 and CQW49_15500   \n",
              "3                     CQW49_04620   \n",
              "4                     CQW49_01165   \n",
              "...                           ...   \n",
              "1038                  CQW49_02850   \n",
              "1039                  CQW49_14985   \n",
              "1040          MCA0955 and MCA0956   \n",
              "1041                          NaN   \n",
              "1042                          NaN   \n",
              "\n",
              "                      Gene_name (Model Description)  \n",
              "0     pyridine nucleotide disulphide oxidoreductase  \n",
              "1              inosine monophosphate cyclohydrolase  \n",
              "2          3 hydroxyacyl CoA dehydrogenase  n 18 0   \n",
              "3                           pantothenate synthetase  \n",
              "4                                 IMP dehydrogenase  \n",
              "...                                             ...  \n",
              "1038                           Polyphosphate kinase  \n",
              "1039                        Hydroxylamine reductase  \n",
              "1040                   Hydroxylamine oxydoreductase  \n",
              "1041           Acetyl-CoA synthesis from 2 pathways  \n",
              "1042                                        PBHB_EX  \n",
              "\n",
              "[1043 rows x 4 columns]"
            ],
            "text/html": [
              "\n",
              "  <div id=\"df-719ae8cd-6160-4f43-853e-5f6b0844d092\">\n",
              "    <div class=\"colab-df-container\">\n",
              "      <div>\n",
              "<style scoped>\n",
              "    .dataframe tbody tr th:only-of-type {\n",
              "        vertical-align: middle;\n",
              "    }\n",
              "\n",
              "    .dataframe tbody tr th {\n",
              "        vertical-align: top;\n",
              "    }\n",
              "\n",
              "    .dataframe thead th {\n",
              "        text-align: right;\n",
              "    }\n",
              "</style>\n",
              "<table border=\"1\" class=\"dataframe\">\n",
              "  <thead>\n",
              "    <tr style=\"text-align: right;\">\n",
              "      <th></th>\n",
              "      <th>Reaction Name</th>\n",
              "      <th>Reaction</th>\n",
              "      <th>Gene*</th>\n",
              "      <th>Gene_name (Model Description)</th>\n",
              "    </tr>\n",
              "  </thead>\n",
              "  <tbody>\n",
              "    <tr>\n",
              "      <th>0</th>\n",
              "      <td>EAOXRED</td>\n",
              "      <td>h_c + nadh_c + oxEA_c --&gt; nad_c + rdEA_c</td>\n",
              "      <td>CQW49_14855</td>\n",
              "      <td>pyridine nucleotide disulphide oxidoreductase</td>\n",
              "    </tr>\n",
              "    <tr>\n",
              "      <th>1</th>\n",
              "      <td>IMPC</td>\n",
              "      <td>fprica_c &lt;=&gt; h2o_c + imp_c</td>\n",
              "      <td>CQW49_01745</td>\n",
              "      <td>inosine monophosphate cyclohydrolase</td>\n",
              "    </tr>\n",
              "    <tr>\n",
              "      <th>2</th>\n",
              "      <td>HACD8i</td>\n",
              "      <td>3hodcoa_c + nad_c &lt;=&gt; 3oodcoa_c + h_c + nadh_c</td>\n",
              "      <td>CQW49_15495 and CQW49_15500</td>\n",
              "      <td>3 hydroxyacyl CoA dehydrogenase  n 18 0</td>\n",
              "    </tr>\n",
              "    <tr>\n",
              "      <th>3</th>\n",
              "      <td>PANTS</td>\n",
              "      <td>ala_B_c + atp_c + pant_R_c --&gt; amp_c + h_c + p...</td>\n",
              "      <td>CQW49_04620</td>\n",
              "      <td>pantothenate synthetase</td>\n",
              "    </tr>\n",
              "    <tr>\n",
              "      <th>4</th>\n",
              "      <td>IMPD</td>\n",
              "      <td>h2o_c + imp_c + nad_c &lt;=&gt; h_c + nadh_c + xmp_c</td>\n",
              "      <td>CQW49_01165</td>\n",
              "      <td>IMP dehydrogenase</td>\n",
              "    </tr>\n",
              "    <tr>\n",
              "      <th>...</th>\n",
              "      <td>...</td>\n",
              "      <td>...</td>\n",
              "      <td>...</td>\n",
              "      <td>...</td>\n",
              "    </tr>\n",
              "    <tr>\n",
              "      <th>1038</th>\n",
              "      <td>PPK2</td>\n",
              "      <td>atp_c + ppi_c --&gt; adp_c + pppi_c</td>\n",
              "      <td>CQW49_02850</td>\n",
              "      <td>Polyphosphate kinase</td>\n",
              "    </tr>\n",
              "    <tr>\n",
              "      <th>1039</th>\n",
              "      <td>HAMR</td>\n",
              "      <td>2.0 h_c + ham_c + nadh_c --&gt; h2o_c + nad_c + n...</td>\n",
              "      <td>CQW49_14985</td>\n",
              "      <td>Hydroxylamine reductase</td>\n",
              "    </tr>\n",
              "    <tr>\n",
              "      <th>1040</th>\n",
              "      <td>HAORipp</td>\n",
              "      <td>2.0 ficytc_c + h2o_p + ham_p --&gt; 2.0 focytc_c ...</td>\n",
              "      <td>MCA0955 and MCA0956</td>\n",
              "      <td>Hydroxylamine oxydoreductase</td>\n",
              "    </tr>\n",
              "    <tr>\n",
              "      <th>1041</th>\n",
              "      <td>ACSPW</td>\n",
              "      <td>2.0 accoaa_c + accoab_c --&gt; 3.0 accoa_c</td>\n",
              "      <td>NaN</td>\n",
              "      <td>Acetyl-CoA synthesis from 2 pathways</td>\n",
              "    </tr>\n",
              "    <tr>\n",
              "      <th>1042</th>\n",
              "      <td>PBHB_EX</td>\n",
              "      <td>pbhb_c --&gt;</td>\n",
              "      <td>NaN</td>\n",
              "      <td>PBHB_EX</td>\n",
              "    </tr>\n",
              "  </tbody>\n",
              "</table>\n",
              "<p>1043 rows × 4 columns</p>\n",
              "</div>\n",
              "      <button class=\"colab-df-convert\" onclick=\"convertToInteractive('df-719ae8cd-6160-4f43-853e-5f6b0844d092')\"\n",
              "              title=\"Convert this dataframe to an interactive table.\"\n",
              "              style=\"display:none;\">\n",
              "        \n",
              "  <svg xmlns=\"http://www.w3.org/2000/svg\" height=\"24px\"viewBox=\"0 0 24 24\"\n",
              "       width=\"24px\">\n",
              "    <path d=\"M0 0h24v24H0V0z\" fill=\"none\"/>\n",
              "    <path d=\"M18.56 5.44l.94 2.06.94-2.06 2.06-.94-2.06-.94-.94-2.06-.94 2.06-2.06.94zm-11 1L8.5 8.5l.94-2.06 2.06-.94-2.06-.94L8.5 2.5l-.94 2.06-2.06.94zm10 10l.94 2.06.94-2.06 2.06-.94-2.06-.94-.94-2.06-.94 2.06-2.06.94z\"/><path d=\"M17.41 7.96l-1.37-1.37c-.4-.4-.92-.59-1.43-.59-.52 0-1.04.2-1.43.59L10.3 9.45l-7.72 7.72c-.78.78-.78 2.05 0 2.83L4 21.41c.39.39.9.59 1.41.59.51 0 1.02-.2 1.41-.59l7.78-7.78 2.81-2.81c.8-.78.8-2.07 0-2.86zM5.41 20L4 18.59l7.72-7.72 1.47 1.35L5.41 20z\"/>\n",
              "  </svg>\n",
              "      </button>\n",
              "      \n",
              "  <style>\n",
              "    .colab-df-container {\n",
              "      display:flex;\n",
              "      flex-wrap:wrap;\n",
              "      gap: 12px;\n",
              "    }\n",
              "\n",
              "    .colab-df-convert {\n",
              "      background-color: #E8F0FE;\n",
              "      border: none;\n",
              "      border-radius: 50%;\n",
              "      cursor: pointer;\n",
              "      display: none;\n",
              "      fill: #1967D2;\n",
              "      height: 32px;\n",
              "      padding: 0 0 0 0;\n",
              "      width: 32px;\n",
              "    }\n",
              "\n",
              "    .colab-df-convert:hover {\n",
              "      background-color: #E2EBFA;\n",
              "      box-shadow: 0px 1px 2px rgba(60, 64, 67, 0.3), 0px 1px 3px 1px rgba(60, 64, 67, 0.15);\n",
              "      fill: #174EA6;\n",
              "    }\n",
              "\n",
              "    [theme=dark] .colab-df-convert {\n",
              "      background-color: #3B4455;\n",
              "      fill: #D2E3FC;\n",
              "    }\n",
              "\n",
              "    [theme=dark] .colab-df-convert:hover {\n",
              "      background-color: #434B5C;\n",
              "      box-shadow: 0px 1px 3px 1px rgba(0, 0, 0, 0.15);\n",
              "      filter: drop-shadow(0px 1px 2px rgba(0, 0, 0, 0.3));\n",
              "      fill: #FFFFFF;\n",
              "    }\n",
              "  </style>\n",
              "\n",
              "      <script>\n",
              "        const buttonEl =\n",
              "          document.querySelector('#df-719ae8cd-6160-4f43-853e-5f6b0844d092 button.colab-df-convert');\n",
              "        buttonEl.style.display =\n",
              "          google.colab.kernel.accessAllowed ? 'block' : 'none';\n",
              "\n",
              "        async function convertToInteractive(key) {\n",
              "          const element = document.querySelector('#df-719ae8cd-6160-4f43-853e-5f6b0844d092');\n",
              "          const dataTable =\n",
              "            await google.colab.kernel.invokeFunction('convertToInteractive',\n",
              "                                                     [key], {});\n",
              "          if (!dataTable) return;\n",
              "\n",
              "          const docLinkHtml = 'Like what you see? Visit the ' +\n",
              "            '<a target=\"_blank\" href=https://colab.research.google.com/notebooks/data_table.ipynb>data table notebook</a>'\n",
              "            + ' to learn more about interactive tables.';\n",
              "          element.innerHTML = '';\n",
              "          dataTable['output_type'] = 'display_data';\n",
              "          await google.colab.output.renderOutput(dataTable, element);\n",
              "          const docLink = document.createElement('div');\n",
              "          docLink.innerHTML = docLinkHtml;\n",
              "          element.appendChild(docLink);\n",
              "        }\n",
              "      </script>\n",
              "    </div>\n",
              "  </div>\n",
              "  "
            ]
          },
          "metadata": {},
          "execution_count": 60
        }
      ]
    },
    {
      "cell_type": "code",
      "source": [
        "data2 = pd.DataFrame([], columns = data.columns)\n",
        "for i in data.index:\n",
        "  print(data.iloc[i,2])\n",
        "  if  str(data.iloc[i,2]) != \n",
        "  GeneList = [y.replace('(','').replace(')','') for k in data.iloc[i,2].split(' and ') for y in k.split(' or ')]\n",
        "  cash = data.iloc[i,:]\n",
        "  for rxn in GeneList :\n",
        "    cash[2] = rxn\n",
        "    data2 = pd.concat([data2, cash])\n",
        "    \n"
      ],
      "metadata": {
        "colab": {
          "base_uri": "https://localhost:8080/",
          "height": 433
        },
        "id": "WoJ_YowfMVYY",
        "outputId": "6dc0063a-06bc-4cda-a204-6d02c3c3eea5"
      },
      "execution_count": 61,
      "outputs": [
        {
          "output_type": "stream",
          "name": "stdout",
          "text": [
            "CQW49_14855\n",
            "CQW49_01745\n",
            "CQW49_15495 and CQW49_15500\n",
            "CQW49_04620\n",
            "CQW49_01165\n",
            "CQW49_18425\n",
            "CQW49_03695\n",
            "CQW49_11425\n",
            "CQW49_03695\n",
            "nan\n"
          ]
        },
        {
          "output_type": "error",
          "ename": "AttributeError",
          "evalue": "ignored",
          "traceback": [
            "\u001b[0;31m---------------------------------------------------------------------------\u001b[0m",
            "\u001b[0;31mAttributeError\u001b[0m                            Traceback (most recent call last)",
            "\u001b[0;32m<ipython-input-61-6817080e5146>\u001b[0m in \u001b[0;36m<module>\u001b[0;34m()\u001b[0m\n\u001b[1;32m      2\u001b[0m \u001b[0;32mfor\u001b[0m \u001b[0mi\u001b[0m \u001b[0;32min\u001b[0m \u001b[0mdata\u001b[0m\u001b[0;34m.\u001b[0m\u001b[0mindex\u001b[0m\u001b[0;34m:\u001b[0m\u001b[0;34m\u001b[0m\u001b[0;34m\u001b[0m\u001b[0m\n\u001b[1;32m      3\u001b[0m   \u001b[0mprint\u001b[0m\u001b[0;34m(\u001b[0m\u001b[0mdata\u001b[0m\u001b[0;34m.\u001b[0m\u001b[0miloc\u001b[0m\u001b[0;34m[\u001b[0m\u001b[0mi\u001b[0m\u001b[0;34m,\u001b[0m\u001b[0;36m2\u001b[0m\u001b[0;34m]\u001b[0m\u001b[0;34m)\u001b[0m\u001b[0;34m\u001b[0m\u001b[0;34m\u001b[0m\u001b[0m\n\u001b[0;32m----> 4\u001b[0;31m   \u001b[0mGeneList\u001b[0m \u001b[0;34m=\u001b[0m \u001b[0;34m[\u001b[0m\u001b[0my\u001b[0m\u001b[0;34m.\u001b[0m\u001b[0mreplace\u001b[0m\u001b[0;34m(\u001b[0m\u001b[0;34m'('\u001b[0m\u001b[0;34m,\u001b[0m\u001b[0;34m''\u001b[0m\u001b[0;34m)\u001b[0m\u001b[0;34m.\u001b[0m\u001b[0mreplace\u001b[0m\u001b[0;34m(\u001b[0m\u001b[0;34m')'\u001b[0m\u001b[0;34m,\u001b[0m\u001b[0;34m''\u001b[0m\u001b[0;34m)\u001b[0m \u001b[0;32mfor\u001b[0m \u001b[0mk\u001b[0m \u001b[0;32min\u001b[0m \u001b[0mdata\u001b[0m\u001b[0;34m.\u001b[0m\u001b[0miloc\u001b[0m\u001b[0;34m[\u001b[0m\u001b[0mi\u001b[0m\u001b[0;34m,\u001b[0m\u001b[0;36m2\u001b[0m\u001b[0;34m]\u001b[0m\u001b[0;34m.\u001b[0m\u001b[0msplit\u001b[0m\u001b[0;34m(\u001b[0m\u001b[0;34m' and '\u001b[0m\u001b[0;34m)\u001b[0m \u001b[0;32mfor\u001b[0m \u001b[0my\u001b[0m \u001b[0;32min\u001b[0m \u001b[0mk\u001b[0m\u001b[0;34m.\u001b[0m\u001b[0msplit\u001b[0m\u001b[0;34m(\u001b[0m\u001b[0;34m' or '\u001b[0m\u001b[0;34m)\u001b[0m\u001b[0;34m]\u001b[0m\u001b[0;34m\u001b[0m\u001b[0;34m\u001b[0m\u001b[0m\n\u001b[0m\u001b[1;32m      5\u001b[0m   \u001b[0mcash\u001b[0m \u001b[0;34m=\u001b[0m \u001b[0mdata\u001b[0m\u001b[0;34m.\u001b[0m\u001b[0miloc\u001b[0m\u001b[0;34m[\u001b[0m\u001b[0mi\u001b[0m\u001b[0;34m,\u001b[0m\u001b[0;34m:\u001b[0m\u001b[0;34m]\u001b[0m\u001b[0;34m\u001b[0m\u001b[0;34m\u001b[0m\u001b[0m\n\u001b[1;32m      6\u001b[0m   \u001b[0;32mfor\u001b[0m \u001b[0mrxn\u001b[0m \u001b[0;32min\u001b[0m \u001b[0mGeneList\u001b[0m \u001b[0;34m:\u001b[0m\u001b[0;34m\u001b[0m\u001b[0;34m\u001b[0m\u001b[0m\n",
            "\u001b[0;31mAttributeError\u001b[0m: 'float' object has no attribute 'split'"
          ]
        }
      ]
    },
    {
      "cell_type": "code",
      "source": [
        "str(data.iloc[9,:][2]) == \"nan\"\n"
      ],
      "metadata": {
        "colab": {
          "base_uri": "https://localhost:8080/"
        },
        "id": "-28245e2RdLZ",
        "outputId": "4e150d6d-c9e9-485b-99f2-e389c959b2dc"
      },
      "execution_count": 71,
      "outputs": [
        {
          "output_type": "execute_result",
          "data": {
            "text/plain": [
              "True"
            ]
          },
          "metadata": {},
          "execution_count": 71
        }
      ]
    },
    {
      "cell_type": "code",
      "source": [
        "seq= '((CQW49_15495 and CQW49_1550)) or MEta1532'\n",
        "# seq2 = seq.split(' and ')\n",
        "atr = [y.replace('(','').replace(')','') for k in seq.split(' and ') for y in k.split(' or ')]\n",
        "atr"
      ],
      "metadata": {
        "colab": {
          "base_uri": "https://localhost:8080/"
        },
        "id": "ZhVLdhPUO_zg",
        "outputId": "cc217b1c-c0f0-49cd-f4c0-2bb46f6cfca2"
      },
      "execution_count": 39,
      "outputs": [
        {
          "output_type": "execute_result",
          "data": {
            "text/plain": [
              "['CQW49_15495', 'CQW49_1550', 'MEta1532']"
            ]
          },
          "metadata": {},
          "execution_count": 39
        }
      ]
    }
  ]
}