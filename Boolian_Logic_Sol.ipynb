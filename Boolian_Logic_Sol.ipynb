{
  "nbformat": 4,
  "nbformat_minor": 0,
  "metadata": {
    "colab": {
      "provenance": [],
      "authorship_tag": "ABX9TyMLkcvf/S4ttD7+RRUdeXDC",
      "include_colab_link": true
    },
    "kernelspec": {
      "name": "python3",
      "display_name": "Python 3"
    },
    "language_info": {
      "name": "python"
    }
  },
  "cells": [
    {
      "cell_type": "markdown",
      "metadata": {
        "id": "view-in-github",
        "colab_type": "text"
      },
      "source": [
        "<a href=\"https://colab.research.google.com/github/SiYeon-Ju/Colab_work/blob/main/Boolian_Logic_Sol.ipynb\" target=\"_parent\"><img src=\"https://colab.research.google.com/assets/colab-badge.svg\" alt=\"Open In Colab\"/></a>"
      ]
    },
    {
      "cell_type": "code",
      "execution_count": 6,
      "metadata": {
        "colab": {
          "base_uri": "https://localhost:8080/"
        },
        "id": "HhyWUooiMPi5",
        "outputId": "dff71248-1fee-4405-9848-1bae943ead87"
      },
      "outputs": [
        {
          "output_type": "stream",
          "name": "stdout",
          "text": [
            "15\n"
          ]
        }
      ],
      "source": [
        "import ast\n",
        "\n",
        "# 입력 문자열\n",
        "input_str = \"sum([max(5, 9), 6])\"\n",
        "\n",
        "# 문자열을 파싱하여 AST 노드 객체 생성\n",
        "ast_node = ast.parse(input_str, mode='eval')\n",
        "\n",
        "# AST 노드 객체를 실행하여 결과값을 계산\n",
        "result = eval(compile(ast_node, '<string>', 'eval'))\n",
        "\n",
        "print(result)  # 6 출력"
      ]
    },
    {
      "cell_type": "code",
      "source": [
        "import re\n",
        "\n",
        "# 검색 대상 문자열\n",
        "# input_str = \"((A and B) or (B and C))\"\n",
        "input_str = \"(A and (A OR B))\"\n",
        "\n",
        "# 괄호 안에 글자가 있는 문자열을 찾는 정규 표현식\n",
        "pattern = r'\\(([^()]+)\\)'\n",
        "\n",
        "# 정규 표현식에 매치되는 모든 문자열을 찾아 리스트로 반환\n",
        "matches = re.findall(pattern, input_str)\n",
        "\n",
        "print(matches)  # ['A and B', 'B and C'] 출력"
      ],
      "metadata": {
        "colab": {
          "base_uri": "https://localhost:8080/"
        },
        "id": "GEQK_0RHTG6U",
        "outputId": "f2a07ee2-b1f9-4cf1-cd60-144d8412762a"
      },
      "execution_count": 13,
      "outputs": [
        {
          "output_type": "stream",
          "name": "stdout",
          "text": [
            "['A OR B']\n"
          ]
        }
      ]
    },
    {
      "cell_type": "code",
      "source": [],
      "metadata": {
        "id": "62Xvq6M2Tp71"
      },
      "execution_count": null,
      "outputs": []
    }
  ]
}